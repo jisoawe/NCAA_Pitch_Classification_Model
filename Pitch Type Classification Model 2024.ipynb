{
 "cells": [
  {
   "cell_type": "markdown",
   "metadata": {},
   "source": [
    "# Pitch Type Model\n",
    "\n",
    "### By: Jiso Awe\n"
   ]
  },
  {
   "cell_type": "markdown",
   "metadata": {},
   "source": [
    "This project was intended to make a more accurate version of TrackMan's auto pitch type model, this is specifically made for college players."
   ]
  },
  {
   "cell_type": "code",
   "execution_count": 147,
   "metadata": {},
   "outputs": [],
   "source": [
    "import pandas as pd\n",
    "import numpy as np\n",
    "from sklearn.metrics import classification_report,confusion_matrix\n",
    "from sklearn.model_selection import cross_val_score\n",
    "from sklearn.model_selection import train_test_split\n",
    "from sklearn.model_selection import cross_val_score\n",
    "from sklearn.metrics import accuracy_score\n",
    "from sklearn.svm import SVC\n",
    "from sklearn.naive_bayes import GaussianNB\n",
    "from sklearn import tree\n",
    "from sklearn.model_selection import GridSearchCV\n",
    "import seaborn as sns\n",
    "import matplotlib.pyplot as plt\n",
    "%matplotlib inline \n",
    "plt.style.use('seaborn-whitegrid')\n",
    "\n",
    "from sklearn.neighbors import KNeighborsClassifier\n",
    "from sklearn.metrics import classification_report\n",
    "from sklearn.metrics import confusion_matrix"
   ]
  },
  {
   "cell_type": "code",
   "execution_count": 109,
   "metadata": {
    "scrolled": true
   },
   "outputs": [
    {
     "data": {
      "text/html": [
       "<div>\n",
       "<style scoped>\n",
       "    .dataframe tbody tr th:only-of-type {\n",
       "        vertical-align: middle;\n",
       "    }\n",
       "\n",
       "    .dataframe tbody tr th {\n",
       "        vertical-align: top;\n",
       "    }\n",
       "\n",
       "    .dataframe thead th {\n",
       "        text-align: right;\n",
       "    }\n",
       "</style>\n",
       "<table border=\"1\" class=\"dataframe\">\n",
       "  <thead>\n",
       "    <tr style=\"text-align: right;\">\n",
       "      <th></th>\n",
       "      <th>id</th>\n",
       "      <th>PitchNo</th>\n",
       "      <th>Date</th>\n",
       "      <th>Time</th>\n",
       "      <th>PAofInning</th>\n",
       "      <th>PitchofPA</th>\n",
       "      <th>PitcherId</th>\n",
       "      <th>PitcherThrows</th>\n",
       "      <th>PitcherTeam</th>\n",
       "      <th>BatterId</th>\n",
       "      <th>...</th>\n",
       "      <th>ThrowTrajectoryZc2</th>\n",
       "      <th>PitchReleaseConfidence</th>\n",
       "      <th>PitchLocationConfidence</th>\n",
       "      <th>PitchMovementConfidence</th>\n",
       "      <th>HitLaunchConfidence</th>\n",
       "      <th>HitLandingConfidence</th>\n",
       "      <th>CatcherThrowCatchConfidence</th>\n",
       "      <th>CatcherThrowReleaseConfidence</th>\n",
       "      <th>CatcherThrowLocationConfidence</th>\n",
       "      <th>GameID</th>\n",
       "    </tr>\n",
       "  </thead>\n",
       "  <tbody>\n",
       "    <tr>\n",
       "      <th>0</th>\n",
       "      <td>6</td>\n",
       "      <td>6</td>\n",
       "      <td>2021-04-07</td>\n",
       "      <td>15:03:45</td>\n",
       "      <td>1</td>\n",
       "      <td>6</td>\n",
       "      <td>1.000080e+09</td>\n",
       "      <td>Right</td>\n",
       "      <td>TOW_TIG</td>\n",
       "      <td>1.000059e+09</td>\n",
       "      <td>...</td>\n",
       "      <td>NaN</td>\n",
       "      <td>High</td>\n",
       "      <td>High</td>\n",
       "      <td>High</td>\n",
       "      <td>Medium</td>\n",
       "      <td>Medium</td>\n",
       "      <td>NaN</td>\n",
       "      <td>NaN</td>\n",
       "      <td>NaN</td>\n",
       "      <td>57</td>\n",
       "    </tr>\n",
       "    <tr>\n",
       "      <th>1</th>\n",
       "      <td>16</td>\n",
       "      <td>16</td>\n",
       "      <td>2021-04-07</td>\n",
       "      <td>15:08:11</td>\n",
       "      <td>3</td>\n",
       "      <td>4</td>\n",
       "      <td>1.000080e+09</td>\n",
       "      <td>Right</td>\n",
       "      <td>TOW_TIG</td>\n",
       "      <td>1.000101e+09</td>\n",
       "      <td>...</td>\n",
       "      <td>NaN</td>\n",
       "      <td>High</td>\n",
       "      <td>High</td>\n",
       "      <td>High</td>\n",
       "      <td>High</td>\n",
       "      <td>High</td>\n",
       "      <td>NaN</td>\n",
       "      <td>NaN</td>\n",
       "      <td>NaN</td>\n",
       "      <td>57</td>\n",
       "    </tr>\n",
       "    <tr>\n",
       "      <th>2</th>\n",
       "      <td>32</td>\n",
       "      <td>32</td>\n",
       "      <td>2021-04-07</td>\n",
       "      <td>15:16:17</td>\n",
       "      <td>3</td>\n",
       "      <td>4</td>\n",
       "      <td>1.000025e+09</td>\n",
       "      <td>Right</td>\n",
       "      <td>NAV_MID</td>\n",
       "      <td>1.000059e+09</td>\n",
       "      <td>...</td>\n",
       "      <td>NaN</td>\n",
       "      <td>High</td>\n",
       "      <td>High</td>\n",
       "      <td>High</td>\n",
       "      <td>High</td>\n",
       "      <td>High</td>\n",
       "      <td>NaN</td>\n",
       "      <td>NaN</td>\n",
       "      <td>NaN</td>\n",
       "      <td>57</td>\n",
       "    </tr>\n",
       "    <tr>\n",
       "      <th>3</th>\n",
       "      <td>34</td>\n",
       "      <td>34</td>\n",
       "      <td>2021-04-07</td>\n",
       "      <td>15:18:22</td>\n",
       "      <td>1</td>\n",
       "      <td>2</td>\n",
       "      <td>1.000080e+09</td>\n",
       "      <td>Right</td>\n",
       "      <td>TOW_TIG</td>\n",
       "      <td>1.000013e+09</td>\n",
       "      <td>...</td>\n",
       "      <td>NaN</td>\n",
       "      <td>High</td>\n",
       "      <td>High</td>\n",
       "      <td>High</td>\n",
       "      <td>Medium</td>\n",
       "      <td>High</td>\n",
       "      <td>NaN</td>\n",
       "      <td>NaN</td>\n",
       "      <td>NaN</td>\n",
       "      <td>57</td>\n",
       "    </tr>\n",
       "    <tr>\n",
       "      <th>4</th>\n",
       "      <td>38</td>\n",
       "      <td>38</td>\n",
       "      <td>2021-04-07</td>\n",
       "      <td>15:19:48</td>\n",
       "      <td>2</td>\n",
       "      <td>4</td>\n",
       "      <td>1.000080e+09</td>\n",
       "      <td>Right</td>\n",
       "      <td>TOW_TIG</td>\n",
       "      <td>1.000059e+09</td>\n",
       "      <td>...</td>\n",
       "      <td>NaN</td>\n",
       "      <td>High</td>\n",
       "      <td>High</td>\n",
       "      <td>High</td>\n",
       "      <td>Medium</td>\n",
       "      <td>Medium</td>\n",
       "      <td>NaN</td>\n",
       "      <td>NaN</td>\n",
       "      <td>NaN</td>\n",
       "      <td>57</td>\n",
       "    </tr>\n",
       "  </tbody>\n",
       "</table>\n",
       "<p>5 rows × 166 columns</p>\n",
       "</div>"
      ],
      "text/plain": [
       "   id  PitchNo        Date      Time  PAofInning  PitchofPA     PitcherId  \\\n",
       "0   6        6  2021-04-07  15:03:45           1          6  1.000080e+09   \n",
       "1  16       16  2021-04-07  15:08:11           3          4  1.000080e+09   \n",
       "2  32       32  2021-04-07  15:16:17           3          4  1.000025e+09   \n",
       "3  34       34  2021-04-07  15:18:22           1          2  1.000080e+09   \n",
       "4  38       38  2021-04-07  15:19:48           2          4  1.000080e+09   \n",
       "\n",
       "  PitcherThrows PitcherTeam      BatterId  ... ThrowTrajectoryZc2  \\\n",
       "0         Right     TOW_TIG  1.000059e+09  ...                NaN   \n",
       "1         Right     TOW_TIG  1.000101e+09  ...                NaN   \n",
       "2         Right     NAV_MID  1.000059e+09  ...                NaN   \n",
       "3         Right     TOW_TIG  1.000013e+09  ...                NaN   \n",
       "4         Right     TOW_TIG  1.000059e+09  ...                NaN   \n",
       "\n",
       "  PitchReleaseConfidence PitchLocationConfidence  PitchMovementConfidence  \\\n",
       "0                   High                    High                     High   \n",
       "1                   High                    High                     High   \n",
       "2                   High                    High                     High   \n",
       "3                   High                    High                     High   \n",
       "4                   High                    High                     High   \n",
       "\n",
       "  HitLaunchConfidence  HitLandingConfidence  CatcherThrowCatchConfidence  \\\n",
       "0              Medium                Medium                          NaN   \n",
       "1                High                  High                          NaN   \n",
       "2                High                  High                          NaN   \n",
       "3              Medium                  High                          NaN   \n",
       "4              Medium                Medium                          NaN   \n",
       "\n",
       "   CatcherThrowReleaseConfidence CatcherThrowLocationConfidence GameID  \n",
       "0                            NaN                            NaN     57  \n",
       "1                            NaN                            NaN     57  \n",
       "2                            NaN                            NaN     57  \n",
       "3                            NaN                            NaN     57  \n",
       "4                            NaN                            NaN     57  \n",
       "\n",
       "[5 rows x 166 columns]"
      ]
     },
     "execution_count": 109,
     "metadata": {},
     "output_type": "execute_result"
    }
   ],
   "source": [
    "data = pd.read_csv('BattedBall.csv')\n",
    "data.head(5)"
   ]
  },
  {
   "cell_type": "code",
   "execution_count": 110,
   "metadata": {},
   "outputs": [
    {
     "data": {
      "text/plain": [
       "['id',\n",
       " 'PitchNo',\n",
       " 'Date',\n",
       " 'Time',\n",
       " 'PAofInning',\n",
       " 'PitchofPA',\n",
       " 'PitcherId',\n",
       " 'PitcherThrows',\n",
       " 'PitcherTeam',\n",
       " 'BatterId',\n",
       " 'BatterSide',\n",
       " 'BatterTeam',\n",
       " 'PitcherSet',\n",
       " 'Inning',\n",
       " 'TopOrBottom',\n",
       " 'Outs',\n",
       " 'Balls',\n",
       " 'Strikes',\n",
       " 'TaggedPitchType',\n",
       " 'AutoPitchType',\n",
       " 'PitchCall',\n",
       " 'KorBB',\n",
       " 'TaggedHitType',\n",
       " 'PlayResult',\n",
       " 'OutsOnPlay',\n",
       " 'RunsScored',\n",
       " 'Notes',\n",
       " 'RelSpeed',\n",
       " 'VertRelAngle',\n",
       " 'HorzRelAngle',\n",
       " 'SpinRate',\n",
       " 'SpinAxis',\n",
       " 'Tilt',\n",
       " 'RelHeight',\n",
       " 'RelSide',\n",
       " 'Extension',\n",
       " 'VertBreak',\n",
       " 'InducedVertBreak',\n",
       " 'HorzBreak',\n",
       " 'PlateLocHeight',\n",
       " 'PlateLocSide',\n",
       " 'ZoneSpeed',\n",
       " 'VertApprAngle',\n",
       " 'HorzApprAngle',\n",
       " 'ZoneTime',\n",
       " 'ExitSpeed',\n",
       " 'Angle',\n",
       " 'Direction',\n",
       " 'HitSpinRate',\n",
       " 'PositionAt110X',\n",
       " 'PositionAt110Y',\n",
       " 'PositionAt110Z',\n",
       " 'Distance',\n",
       " 'LastTrackedDistance',\n",
       " 'Bearing',\n",
       " 'HangTime',\n",
       " 'pfxx',\n",
       " 'pfxz',\n",
       " 'x0',\n",
       " 'y0',\n",
       " 'z0',\n",
       " 'vx0',\n",
       " 'vy0',\n",
       " 'vz0',\n",
       " 'ax0',\n",
       " 'ay0',\n",
       " 'az0',\n",
       " 'HomeTeam',\n",
       " 'AwayTeam',\n",
       " 'Stadium',\n",
       " 'Level',\n",
       " 'League',\n",
       " 'TrackmanGameID',\n",
       " 'PitchUID',\n",
       " 'EffectiveVelo',\n",
       " 'MaxHeight',\n",
       " 'MeasuredDuration',\n",
       " 'SpeedDrop',\n",
       " 'PitchLastMeasuredX',\n",
       " 'PitchLastMeasuredY',\n",
       " 'PitchLastMeasuredZ',\n",
       " 'ContactPositionX',\n",
       " 'ContactPositionY',\n",
       " 'ContactPositionZ',\n",
       " 'GameUID',\n",
       " 'UTCDate',\n",
       " 'UTCTime',\n",
       " 'LocalDateTime',\n",
       " 'UTCDateTime',\n",
       " 'AutoHitType',\n",
       " 'System',\n",
       " 'HomeTeamForeignID',\n",
       " 'AwayTeamForeignID',\n",
       " 'GameForeignID',\n",
       " 'CatcherId',\n",
       " 'CatcherThrows',\n",
       " 'CatcherTeam',\n",
       " 'PlayID',\n",
       " 'PitchTrajectoryXc0',\n",
       " 'PitchTrajectoryXc1',\n",
       " 'PitchTrajectoryXc2',\n",
       " 'PitchTrajectoryYc0',\n",
       " 'PitchTrajectoryYc1',\n",
       " 'PitchTrajectoryYc2',\n",
       " 'PitchTrajectoryZc0',\n",
       " 'PitchTrajectoryZc1',\n",
       " 'PitchTrajectoryZc2',\n",
       " 'HitSpinAxis',\n",
       " 'HitTrajectoryXc0',\n",
       " 'HitTrajectoryXc1',\n",
       " 'HitTrajectoryXc2',\n",
       " 'HitTrajectoryXc3',\n",
       " 'HitTrajectoryXc4',\n",
       " 'HitTrajectoryXc5',\n",
       " 'HitTrajectoryXc6',\n",
       " 'HitTrajectoryXc7',\n",
       " 'HitTrajectoryXc8',\n",
       " 'HitTrajectoryYc0',\n",
       " 'HitTrajectoryYc1',\n",
       " 'HitTrajectoryYc2',\n",
       " 'HitTrajectoryYc3',\n",
       " 'HitTrajectoryYc4',\n",
       " 'HitTrajectoryYc5',\n",
       " 'HitTrajectoryYc6',\n",
       " 'HitTrajectoryYc7',\n",
       " 'HitTrajectoryYc8',\n",
       " 'HitTrajectoryZc0',\n",
       " 'HitTrajectoryZc1',\n",
       " 'HitTrajectoryZc2',\n",
       " 'HitTrajectoryZc3',\n",
       " 'HitTrajectoryZc4',\n",
       " 'HitTrajectoryZc5',\n",
       " 'HitTrajectoryZc6',\n",
       " 'HitTrajectoryZc7',\n",
       " 'HitTrajectoryZc8',\n",
       " 'ThrowSpeed',\n",
       " 'PopTime',\n",
       " 'ExchangeTime',\n",
       " 'TimeToBase',\n",
       " 'CatchPositionX',\n",
       " 'CatchPositionY',\n",
       " 'CatchPositionZ',\n",
       " 'ThrowPositionX',\n",
       " 'ThrowPositionY',\n",
       " 'ThrowPositionZ',\n",
       " 'BasePositionX',\n",
       " 'BasePositionY',\n",
       " 'BasePositionZ',\n",
       " 'ThrowTrajectoryXc0',\n",
       " 'ThrowTrajectoryXc1',\n",
       " 'ThrowTrajectoryXc2',\n",
       " 'ThrowTrajectoryYc0',\n",
       " 'ThrowTrajectoryYc1',\n",
       " 'ThrowTrajectoryYc2',\n",
       " 'ThrowTrajectoryZc0',\n",
       " 'ThrowTrajectoryZc1',\n",
       " 'ThrowTrajectoryZc2',\n",
       " 'PitchReleaseConfidence',\n",
       " 'PitchLocationConfidence',\n",
       " 'PitchMovementConfidence',\n",
       " 'HitLaunchConfidence',\n",
       " 'HitLandingConfidence',\n",
       " 'CatcherThrowCatchConfidence',\n",
       " 'CatcherThrowReleaseConfidence',\n",
       " 'CatcherThrowLocationConfidence',\n",
       " 'GameID']"
      ]
     },
     "execution_count": 110,
     "metadata": {},
     "output_type": "execute_result"
    }
   ],
   "source": [
    "list(data.columns)"
   ]
  },
  {
   "cell_type": "code",
   "execution_count": 111,
   "metadata": {},
   "outputs": [],
   "source": [
    "cols = ['PitcherThrows', 'RelSpeed', 'VertRelAngle', 'HorzRelAngle', 'SpinRate', 'SpinAxis',\n",
    "            'RelHeight', 'RelSide', 'Extension', 'VertBreak', 'InducedVertBreak', 'HorzBreak', 'ZoneSpeed',\n",
    "           'VertApprAngle', 'HorzApprAngle', 'PitchTrajectoryXc0','PitchTrajectoryXc1', 'PitchTrajectoryXc2',\n",
    "            'PitchTrajectoryYc0', 'PitchTrajectoryYc1', 'PitchTrajectoryYc2', 'PitchTrajectoryZc0',\n",
    "            'PitchTrajectoryZc1','PitchTrajectoryZc2', 'TaggedPitchType'] #'Tilt', ]\n",
    "\n",
    "updated_df = data[cols]\n"
   ]
  },
  {
   "cell_type": "code",
   "execution_count": 112,
   "metadata": {},
   "outputs": [
    {
     "name": "stdout",
     "output_type": "stream",
     "text": [
      "   RelSpeed  VertRelAngle  HorzRelAngle  SpinRate  SpinAxis  RelHeight  \\\n",
      "0   87.7942     -2.316140      -1.48219   2074.21   193.273    6.39639   \n",
      "1   78.6510     -3.237650      -2.15585   1743.14   176.354    6.21378   \n",
      "2   83.7694     -0.945851      -3.61505   2063.13   194.331    5.58439   \n",
      "3   87.2288     -2.433030      -1.51020   2049.19   183.578    6.36527   \n",
      "4   88.3147     -3.345550      -1.49199   2083.12   195.554    6.32208   \n",
      "\n",
      "   RelSide  Extension  VertBreak  InducedVertBreak  ...  PitchTrajectoryXc2  \\\n",
      "0  1.25232    5.62407   -14.4967           22.7111  ...             14.9429   \n",
      "1  1.55537    5.58387   -20.2948           26.5170  ...             12.5362   \n",
      "2  2.96050    6.79323   -21.0996           17.8128  ...             13.0979   \n",
      "3  1.16780    5.48250   -12.4688           25.7406  ...             15.7290   \n",
      "4  1.41026    5.61121   -13.4307           23.4954  ...             15.3537   \n",
      "\n",
      "   PitchTrajectoryYc0  PitchTrajectoryYc1  PitchTrajectoryYc2  \\\n",
      "0             6.39219            -5.07470            -5.88970   \n",
      "1             6.20956            -6.39518            -6.43732   \n",
      "2             5.58271            -1.97702            -8.59524   \n",
      "3             6.36003            -5.26725            -4.85992   \n",
      "4             6.31744            -7.41420            -5.19747   \n",
      "\n",
      "   PitchTrajectoryZc0  PitchTrajectoryZc1  PitchTrajectoryZc2  \\\n",
      "0            -1.25003             3.25817            -2.44303   \n",
      "1            -1.55554             4.33739             0.04007   \n",
      "2            -2.95833             7.68082            -2.47728   \n",
      "3            -1.16691             3.34104            -1.01793   \n",
      "4            -1.40755             3.28298            -2.93283   \n",
      "\n",
      "   TaggedPitchType  PitcherThrows_Left  PitcherThrows_Right  \n",
      "0         Fastball                   0                    1  \n",
      "1         ChangeUp                   0                    1  \n",
      "2         Fastball                   0                    1  \n",
      "3         Fastball                   0                    1  \n",
      "4         Fastball                   0                    1  \n",
      "\n",
      "[5 rows x 26 columns]\n"
     ]
    }
   ],
   "source": [
    "one_hot_encoded_data = pd.get_dummies(updated_df, columns = ['PitcherThrows'])\n",
    "print(one_hot_encoded_data.head(5))"
   ]
  },
  {
   "cell_type": "code",
   "execution_count": 113,
   "metadata": {},
   "outputs": [],
   "source": [
    "one_hot_encoded_data.dropna(inplace=True)"
   ]
  },
  {
   "cell_type": "code",
   "execution_count": 114,
   "metadata": {},
   "outputs": [
    {
     "data": {
      "text/html": [
       "<div>\n",
       "<style scoped>\n",
       "    .dataframe tbody tr th:only-of-type {\n",
       "        vertical-align: middle;\n",
       "    }\n",
       "\n",
       "    .dataframe tbody tr th {\n",
       "        vertical-align: top;\n",
       "    }\n",
       "\n",
       "    .dataframe thead th {\n",
       "        text-align: right;\n",
       "    }\n",
       "</style>\n",
       "<table border=\"1\" class=\"dataframe\">\n",
       "  <thead>\n",
       "    <tr style=\"text-align: right;\">\n",
       "      <th></th>\n",
       "      <th>RelSpeed</th>\n",
       "      <th>VertRelAngle</th>\n",
       "      <th>HorzRelAngle</th>\n",
       "      <th>SpinRate</th>\n",
       "      <th>SpinAxis</th>\n",
       "      <th>RelHeight</th>\n",
       "      <th>RelSide</th>\n",
       "      <th>Extension</th>\n",
       "      <th>VertBreak</th>\n",
       "      <th>InducedVertBreak</th>\n",
       "      <th>...</th>\n",
       "      <th>PitchTrajectoryXc2</th>\n",
       "      <th>PitchTrajectoryYc0</th>\n",
       "      <th>PitchTrajectoryYc1</th>\n",
       "      <th>PitchTrajectoryYc2</th>\n",
       "      <th>PitchTrajectoryZc0</th>\n",
       "      <th>PitchTrajectoryZc1</th>\n",
       "      <th>PitchTrajectoryZc2</th>\n",
       "      <th>TaggedPitchType</th>\n",
       "      <th>PitcherThrows_Left</th>\n",
       "      <th>PitcherThrows_Right</th>\n",
       "    </tr>\n",
       "  </thead>\n",
       "  <tbody>\n",
       "    <tr>\n",
       "      <th>0</th>\n",
       "      <td>87.7942</td>\n",
       "      <td>-2.316140</td>\n",
       "      <td>-1.48219</td>\n",
       "      <td>2074.21</td>\n",
       "      <td>193.273</td>\n",
       "      <td>6.39639</td>\n",
       "      <td>1.25232</td>\n",
       "      <td>5.62407</td>\n",
       "      <td>-14.4967</td>\n",
       "      <td>22.7111</td>\n",
       "      <td>...</td>\n",
       "      <td>14.9429</td>\n",
       "      <td>6.39219</td>\n",
       "      <td>-5.07470</td>\n",
       "      <td>-5.88970</td>\n",
       "      <td>-1.25003</td>\n",
       "      <td>3.25817</td>\n",
       "      <td>-2.44303</td>\n",
       "      <td>Fastball</td>\n",
       "      <td>0</td>\n",
       "      <td>1</td>\n",
       "    </tr>\n",
       "    <tr>\n",
       "      <th>1</th>\n",
       "      <td>78.6510</td>\n",
       "      <td>-3.237650</td>\n",
       "      <td>-2.15585</td>\n",
       "      <td>1743.14</td>\n",
       "      <td>176.354</td>\n",
       "      <td>6.21378</td>\n",
       "      <td>1.55537</td>\n",
       "      <td>5.58387</td>\n",
       "      <td>-20.2948</td>\n",
       "      <td>26.5170</td>\n",
       "      <td>...</td>\n",
       "      <td>12.5362</td>\n",
       "      <td>6.20956</td>\n",
       "      <td>-6.39518</td>\n",
       "      <td>-6.43732</td>\n",
       "      <td>-1.55554</td>\n",
       "      <td>4.33739</td>\n",
       "      <td>0.04007</td>\n",
       "      <td>ChangeUp</td>\n",
       "      <td>0</td>\n",
       "      <td>1</td>\n",
       "    </tr>\n",
       "    <tr>\n",
       "      <th>2</th>\n",
       "      <td>83.7694</td>\n",
       "      <td>-0.945851</td>\n",
       "      <td>-3.61505</td>\n",
       "      <td>2063.13</td>\n",
       "      <td>194.331</td>\n",
       "      <td>5.58439</td>\n",
       "      <td>2.96050</td>\n",
       "      <td>6.79323</td>\n",
       "      <td>-21.0996</td>\n",
       "      <td>17.8128</td>\n",
       "      <td>...</td>\n",
       "      <td>13.0979</td>\n",
       "      <td>5.58271</td>\n",
       "      <td>-1.97702</td>\n",
       "      <td>-8.59524</td>\n",
       "      <td>-2.95833</td>\n",
       "      <td>7.68082</td>\n",
       "      <td>-2.47728</td>\n",
       "      <td>Fastball</td>\n",
       "      <td>0</td>\n",
       "      <td>1</td>\n",
       "    </tr>\n",
       "    <tr>\n",
       "      <th>3</th>\n",
       "      <td>87.2288</td>\n",
       "      <td>-2.433030</td>\n",
       "      <td>-1.51020</td>\n",
       "      <td>2049.19</td>\n",
       "      <td>183.578</td>\n",
       "      <td>6.36527</td>\n",
       "      <td>1.16780</td>\n",
       "      <td>5.48250</td>\n",
       "      <td>-12.4688</td>\n",
       "      <td>25.7406</td>\n",
       "      <td>...</td>\n",
       "      <td>15.7290</td>\n",
       "      <td>6.36003</td>\n",
       "      <td>-5.26725</td>\n",
       "      <td>-4.85992</td>\n",
       "      <td>-1.16691</td>\n",
       "      <td>3.34104</td>\n",
       "      <td>-1.01793</td>\n",
       "      <td>Fastball</td>\n",
       "      <td>0</td>\n",
       "      <td>1</td>\n",
       "    </tr>\n",
       "    <tr>\n",
       "      <th>4</th>\n",
       "      <td>88.3147</td>\n",
       "      <td>-3.345550</td>\n",
       "      <td>-1.49199</td>\n",
       "      <td>2083.12</td>\n",
       "      <td>195.554</td>\n",
       "      <td>6.32208</td>\n",
       "      <td>1.41026</td>\n",
       "      <td>5.61121</td>\n",
       "      <td>-13.4307</td>\n",
       "      <td>23.4954</td>\n",
       "      <td>...</td>\n",
       "      <td>15.3537</td>\n",
       "      <td>6.31744</td>\n",
       "      <td>-7.41420</td>\n",
       "      <td>-5.19747</td>\n",
       "      <td>-1.40755</td>\n",
       "      <td>3.28298</td>\n",
       "      <td>-2.93283</td>\n",
       "      <td>Fastball</td>\n",
       "      <td>0</td>\n",
       "      <td>1</td>\n",
       "    </tr>\n",
       "  </tbody>\n",
       "</table>\n",
       "<p>5 rows × 26 columns</p>\n",
       "</div>"
      ],
      "text/plain": [
       "   RelSpeed  VertRelAngle  HorzRelAngle  SpinRate  SpinAxis  RelHeight  \\\n",
       "0   87.7942     -2.316140      -1.48219   2074.21   193.273    6.39639   \n",
       "1   78.6510     -3.237650      -2.15585   1743.14   176.354    6.21378   \n",
       "2   83.7694     -0.945851      -3.61505   2063.13   194.331    5.58439   \n",
       "3   87.2288     -2.433030      -1.51020   2049.19   183.578    6.36527   \n",
       "4   88.3147     -3.345550      -1.49199   2083.12   195.554    6.32208   \n",
       "\n",
       "   RelSide  Extension  VertBreak  InducedVertBreak  ...  PitchTrajectoryXc2  \\\n",
       "0  1.25232    5.62407   -14.4967           22.7111  ...             14.9429   \n",
       "1  1.55537    5.58387   -20.2948           26.5170  ...             12.5362   \n",
       "2  2.96050    6.79323   -21.0996           17.8128  ...             13.0979   \n",
       "3  1.16780    5.48250   -12.4688           25.7406  ...             15.7290   \n",
       "4  1.41026    5.61121   -13.4307           23.4954  ...             15.3537   \n",
       "\n",
       "   PitchTrajectoryYc0  PitchTrajectoryYc1  PitchTrajectoryYc2  \\\n",
       "0             6.39219            -5.07470            -5.88970   \n",
       "1             6.20956            -6.39518            -6.43732   \n",
       "2             5.58271            -1.97702            -8.59524   \n",
       "3             6.36003            -5.26725            -4.85992   \n",
       "4             6.31744            -7.41420            -5.19747   \n",
       "\n",
       "   PitchTrajectoryZc0  PitchTrajectoryZc1  PitchTrajectoryZc2  \\\n",
       "0            -1.25003             3.25817            -2.44303   \n",
       "1            -1.55554             4.33739             0.04007   \n",
       "2            -2.95833             7.68082            -2.47728   \n",
       "3            -1.16691             3.34104            -1.01793   \n",
       "4            -1.40755             3.28298            -2.93283   \n",
       "\n",
       "   TaggedPitchType  PitcherThrows_Left  PitcherThrows_Right  \n",
       "0         Fastball                   0                    1  \n",
       "1         ChangeUp                   0                    1  \n",
       "2         Fastball                   0                    1  \n",
       "3         Fastball                   0                    1  \n",
       "4         Fastball                   0                    1  \n",
       "\n",
       "[5 rows x 26 columns]"
      ]
     },
     "execution_count": 114,
     "metadata": {},
     "output_type": "execute_result"
    }
   ],
   "source": [
    "one_hot_encoded_data.head(5)"
   ]
  },
  {
   "cell_type": "code",
   "execution_count": 115,
   "metadata": {},
   "outputs": [],
   "source": [
    "y = one_hot_encoded_data['TaggedPitchType']\n",
    "\n",
    "X = one_hot_encoded_data.drop('TaggedPitchType', axis = 1)\n"
   ]
  },
  {
   "cell_type": "code",
   "execution_count": 116,
   "metadata": {},
   "outputs": [],
   "source": [
    "X_train, X_test, y_train, y_test = train_test_split(X, y, random_state = 22)"
   ]
  },
  {
   "cell_type": "markdown",
   "metadata": {},
   "source": [
    "## KNN"
   ]
  },
  {
   "cell_type": "code",
   "execution_count": 133,
   "metadata": {},
   "outputs": [],
   "source": [
    "knn = KNeighborsClassifier(n_neighbors = 5)\n",
    "knn.fit(X_train, y_train)\n",
    "y_pred_knn = knn.predict(X_test)"
   ]
  },
  {
   "cell_type": "code",
   "execution_count": 134,
   "metadata": {},
   "outputs": [
    {
     "data": {
      "text/plain": [
       "0.8046798830029249"
      ]
     },
     "execution_count": 134,
     "metadata": {},
     "output_type": "execute_result"
    }
   ],
   "source": [
    "accuracy_score(y_test, y_pred_knn)"
   ]
  },
  {
   "cell_type": "markdown",
   "metadata": {},
   "source": [
    "## SVM"
   ]
  },
  {
   "cell_type": "code",
   "execution_count": 125,
   "metadata": {},
   "outputs": [],
   "source": [
    "svc = SVC(kernel = 'rbf', random_state = 2)\n",
    "svc.fit(X_train, y_train)\n",
    "y_pred_SVC = svc.predict(X_test)"
   ]
  },
  {
   "cell_type": "code",
   "execution_count": 126,
   "metadata": {},
   "outputs": [
    {
     "data": {
      "text/plain": [
       "0.7549561260968476"
      ]
     },
     "execution_count": 126,
     "metadata": {},
     "output_type": "execute_result"
    }
   ],
   "source": [
    "accuracy_score(y_test, y_pred_SVC)"
   ]
  },
  {
   "cell_type": "markdown",
   "metadata": {},
   "source": [
    "# Naive Bayes"
   ]
  },
  {
   "cell_type": "code",
   "execution_count": 128,
   "metadata": {},
   "outputs": [],
   "source": [
    "gnb = GaussianNB()\n",
    "gnb.fit(X_train, y_train)\n",
    "y_pred_gnb = gnb.predict(X_test)"
   ]
  },
  {
   "cell_type": "code",
   "execution_count": 129,
   "metadata": {},
   "outputs": [
    {
     "data": {
      "text/plain": [
       "0.7173653991983534"
      ]
     },
     "execution_count": 129,
     "metadata": {},
     "output_type": "execute_result"
    }
   ],
   "source": [
    "accuracy_score(y_test, y_pred_gnb)"
   ]
  },
  {
   "cell_type": "markdown",
   "metadata": {},
   "source": [
    "# Decison Tree"
   ]
  },
  {
   "cell_type": "code",
   "execution_count": 131,
   "metadata": {},
   "outputs": [],
   "source": [
    "clf = tree.DecisionTreeClassifier()\n",
    "clf.fit(X_train, y_train)\n",
    "y_pred_clf = clf.predict(X_test)"
   ]
  },
  {
   "cell_type": "code",
   "execution_count": 132,
   "metadata": {},
   "outputs": [
    {
     "data": {
      "text/plain": [
       "0.7910302242443938"
      ]
     },
     "execution_count": 132,
     "metadata": {},
     "output_type": "execute_result"
    }
   ],
   "source": [
    "accuracy_score(y_test, y_pred_clf)"
   ]
  },
  {
   "cell_type": "markdown",
   "metadata": {},
   "source": [
    "# KNN Optimized"
   ]
  },
  {
   "cell_type": "markdown",
   "metadata": {},
   "source": [
    "After examining the baseline classifier models, KNN performed the best with a ~0.8047 accuracy score. Now to test different ways to optimize for better performance."
   ]
  },
  {
   "cell_type": "code",
   "execution_count": 140,
   "metadata": {},
   "outputs": [
    {
     "data": {
      "text/plain": [
       "Text(0, 0.5, 'Error Rate')"
      ]
     },
     "execution_count": 140,
     "metadata": {},
     "output_type": "execute_result"
    },
    {
     "data": {
      "image/png": "[encoded data removed]",
      "text/plain": [
       "<Figure size 576x288 with 1 Axes>"
      ]
     },
     "metadata": {},
     "output_type": "display_data"
    }
   ],
   "source": [
    "error_rate = []\n",
    "for i in range(1,51):    \n",
    "    knn = KNeighborsClassifier(n_neighbors=i)\n",
    "    knn.fit(X_train,y_train)\n",
    "    pred_i = knn.predict(X_test)\n",
    "    error_rate.append(np.mean(pred_i != y_test))\n",
    "    \n",
    "## creating a graph to examine which value for n has the lowest error\n",
    "plt.figure(figsize=(8,4))\n",
    "plt.plot(range(1,51),error_rate,color='darkred', marker='o',markersize=10)\n",
    "plt.title('Error Rate vs. K Value')\n",
    "plt.xlabel('K')\n",
    "plt.ylabel('Error Rate')"
   ]
  },
  {
   "cell_type": "code",
   "execution_count": 141,
   "metadata": {},
   "outputs": [
    {
     "data": {
      "text/plain": [
       "0.8129130105080706"
      ]
     },
     "execution_count": 141,
     "metadata": {},
     "output_type": "execute_result"
    }
   ],
   "source": [
    "knn2 = KNeighborsClassifier(n_neighbors = 11)\n",
    "knn2.fit(X_train, y_train)\n",
    "knn_pred = knn2.predict(X_test)\n",
    "accuracy_score(y_test, knn_pred)"
   ]
  },
  {
   "cell_type": "code",
   "execution_count": 146,
   "metadata": {},
   "outputs": [],
   "source": [
    "#print(confusion_matrix(y_test, knn_pred))"
   ]
  },
  {
   "cell_type": "code",
   "execution_count": null,
   "metadata": {},
   "outputs": [],
   "source": [
    "parameters = {'n_neighbors': range(1,15),\n",
    "             'weights':['uniform', 'distance']}\n",
    "\n",
    "grid_search = GridSearchCV(estimator = KNeighborsClassifier(),\n",
    "                          param_grid = parameters,\n",
    "                          scoring = 'accuracy',\n",
    "                          return_train_score = True)\n",
    "\n",
    "grid_search.fit(X_train, y_train)"
   ]
  },
  {
   "cell_type": "code",
   "execution_count": null,
   "metadata": {},
   "outputs": [],
   "source": [
    "grid_search.best_params_"
   ]
  },
  {
   "cell_type": "code",
   "execution_count": null,
   "metadata": {},
   "outputs": [],
   "source": []
  },
  {
   "cell_type": "code",
   "execution_count": 145,
   "metadata": {},
   "outputs": [
    {
     "ename": "NameError",
     "evalue": "name 'y_pred' is not defined",
     "output_type": "error",
     "traceback": [
      "\u001b[0;31m---------------------------------------------------------------------------\u001b[0m",
      "\u001b[0;31mNameError\u001b[0m                                 Traceback (most recent call last)",
      "\u001b[0;32m<ipython-input-145-373b36db5e68>\u001b[0m in \u001b[0;36m<module>\u001b[0;34m\u001b[0m\n\u001b[0;32m----> 1\u001b[0;31m \u001b[0mtest_calc\u001b[0m \u001b[0;34m=\u001b[0m \u001b[0mpd\u001b[0m\u001b[0;34m.\u001b[0m\u001b[0mconcat\u001b[0m\u001b[0;34m(\u001b[0m\u001b[0;34m[\u001b[0m\u001b[0mpd\u001b[0m\u001b[0;34m.\u001b[0m\u001b[0mDataFrame\u001b[0m\u001b[0;34m(\u001b[0m\u001b[0my_test\u001b[0m\u001b[0;34m)\u001b[0m\u001b[0;34m.\u001b[0m\u001b[0mreset_index\u001b[0m\u001b[0;34m(\u001b[0m\u001b[0mdrop\u001b[0m\u001b[0;34m=\u001b[0m\u001b[0;32mTrue\u001b[0m\u001b[0;34m)\u001b[0m\u001b[0;34m,\u001b[0m\u001b[0mpd\u001b[0m\u001b[0;34m.\u001b[0m\u001b[0mDataFrame\u001b[0m\u001b[0;34m(\u001b[0m\u001b[0my_pred\u001b[0m\u001b[0;34m)\u001b[0m\u001b[0;34m.\u001b[0m\u001b[0mreset_index\u001b[0m\u001b[0;34m(\u001b[0m\u001b[0mdrop\u001b[0m\u001b[0;34m=\u001b[0m\u001b[0;32mTrue\u001b[0m\u001b[0;34m)\u001b[0m\u001b[0;34m]\u001b[0m\u001b[0;34m,\u001b[0m\u001b[0maxis\u001b[0m\u001b[0;34m=\u001b[0m\u001b[0;36m1\u001b[0m\u001b[0;34m)\u001b[0m\u001b[0;34m\u001b[0m\u001b[0;34m\u001b[0m\u001b[0m\n\u001b[0m\u001b[1;32m      2\u001b[0m \u001b[0mtest_calc\u001b[0m\u001b[0;34m.\u001b[0m\u001b[0mrename\u001b[0m\u001b[0;34m(\u001b[0m\u001b[0mcolumns\u001b[0m\u001b[0;34m=\u001b[0m\u001b[0;34m{\u001b[0m\u001b[0;36m0\u001b[0m\u001b[0;34m:\u001b[0m \u001b[0;34m'predicted'\u001b[0m\u001b[0;34m}\u001b[0m\u001b[0;34m,\u001b[0m \u001b[0minplace\u001b[0m\u001b[0;34m=\u001b[0m\u001b[0;32mTrue\u001b[0m\u001b[0;34m)\u001b[0m\u001b[0;34m\u001b[0m\u001b[0;34m\u001b[0m\u001b[0m\n\u001b[1;32m      3\u001b[0m \u001b[0;34m\u001b[0m\u001b[0m\n\u001b[1;32m      4\u001b[0m \u001b[0mtest_calc\u001b[0m\u001b[0;34m[\u001b[0m\u001b[0;34m'predicted'\u001b[0m\u001b[0;34m]\u001b[0m \u001b[0;34m=\u001b[0m \u001b[0mtest_calc\u001b[0m\u001b[0;34m[\u001b[0m\u001b[0;34m'predicted'\u001b[0m\u001b[0;34m]\u001b[0m\u001b[0;34m.\u001b[0m\u001b[0mapply\u001b[0m\u001b[0;34m(\u001b[0m\u001b[0;32mlambda\u001b[0m \u001b[0mx\u001b[0m\u001b[0;34m:\u001b[0m \u001b[0;36m1\u001b[0m \u001b[0;32mif\u001b[0m \u001b[0mx\u001b[0m \u001b[0;34m>\u001b[0m \u001b[0;36m0.5\u001b[0m \u001b[0;32melse\u001b[0m \u001b[0;36m0\u001b[0m\u001b[0;34m)\u001b[0m\u001b[0;34m\u001b[0m\u001b[0;34m\u001b[0m\u001b[0m\n\u001b[1;32m      5\u001b[0m \u001b[0mdf_table\u001b[0m \u001b[0;34m=\u001b[0m \u001b[0mconfusion_matrix\u001b[0m\u001b[0;34m(\u001b[0m\u001b[0mtest_calc\u001b[0m\u001b[0;34m[\u001b[0m\u001b[0;34m'y'\u001b[0m\u001b[0;34m]\u001b[0m\u001b[0;34m,\u001b[0m\u001b[0mtest_calc\u001b[0m\u001b[0;34m[\u001b[0m\u001b[0;34m'predicted'\u001b[0m\u001b[0;34m]\u001b[0m\u001b[0;34m)\u001b[0m\u001b[0;34m\u001b[0m\u001b[0;34m\u001b[0m\u001b[0m\n",
      "\u001b[0;31mNameError\u001b[0m: name 'y_pred' is not defined"
     ]
    }
   ],
   "source": [
    "test_calc = pd.concat([pd.DataFrame(y_test).reset_index(drop=True),pd.DataFrame(y_pred).reset_index(drop=True)],axis=1)\n",
    "test_calc.rename(columns={0: 'predicted'}, inplace=True)\n",
    "\n",
    "test_calc['predicted'] = test_calc['predicted'].apply(lambda x: 1 if x > 0.5 else 0)\n",
    "df_table = confusion_matrix(test_calc['y'],test_calc['predicted'])\n",
    "print (df_table)\n",
    "\n",
    "print('accuracy:', (df_table[0,0] + df_table[1,1]) / (df_table[0,0] + df_table[0,1] + df_table[1,0] + df_table[1,1]))\n",
    "print ('precision:', df_table[1,1] / (df_table[1,1] + df_table[0,1]))\n",
    "print('recall:', df_table[1,1] / (df_table[1,1] + df_table[1,0]))\n",
    "\n",
    "p = df_table[1,1] / (df_table[1,1] + df_table[0,1])\n",
    "r = df_table[1,1] / (df_table[1,1] + df_table[1,0])\n",
    "print('f1 score: ', (2*p*r)/(p+r))\n"
   ]
  },
  {
   "cell_type": "code",
   "execution_count": null,
   "metadata": {},
   "outputs": [],
   "source": []
  }
 ],
 "metadata": {
  "kernelspec": {
   "display_name": "Python 3",
   "language": "python",
   "name": "python3"
  },
  "language_info": {
   "codemirror_mode": {
    "name": "ipython",
    "version": 3
   },
   "file_extension": ".py",
   "mimetype": "text/x-python",
   "name": "python",
   "nbconvert_exporter": "python",
   "pygments_lexer": "ipython3",
   "version": "3.8.5"
  }
 },
 "nbformat": 4,
 "nbformat_minor": 4
}
