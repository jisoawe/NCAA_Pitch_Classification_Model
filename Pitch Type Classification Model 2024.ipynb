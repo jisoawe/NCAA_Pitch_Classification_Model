{
 "cells": [
  {
   "cell_type": "markdown",
   "metadata": {},
   "source": [
    "# NCAA Pitch Type Model\n",
    "\n",
    "### By: Jiso Awe\n"
   ]
  },
  {
   "cell_type": "markdown",
   "metadata": {},
   "source": [
    "This project was intended to create a more accurate version of TrackMan's auto pitch type model, this is specifically tailored to college players."
   ]
  },
  {
   "cell_type": "code",
   "execution_count": 2,
   "metadata": {},
   "outputs": [],
   "source": [
    "import pandas as pd\n",
    "import numpy as np\n",
    "from sklearn.metrics import classification_report,confusion_matrix, accuracy_score\n",
    "from sklearn.model_selection import train_test_split, cross_val_score, StratifiedKFold\n",
    "from sklearn.inspection import permutation_importance\n",
    "from sklearn.svm import SVC\n",
    "from sklearn.naive_bayes import GaussianNB\n",
    "from sklearn.tree import DecisionTreeClassifier\n",
    "from sklearn.model_selection import GridSearchCV\n",
    "import seaborn as sns\n",
    "import matplotlib.pyplot as plt\n",
    "%matplotlib inline \n",
    "plt.style.use('seaborn-whitegrid')\n",
    "from sklearn.neighbors import KNeighborsClassifier"
   ]
  },
  {
   "cell_type": "code",
   "execution_count": 100,
   "metadata": {
    "scrolled": true
   },
   "outputs": [
    {
     "data": {
      "text/html": [
       "<div>\n",
       "<style scoped>\n",
       "    .dataframe tbody tr th:only-of-type {\n",
       "        vertical-align: middle;\n",
       "    }\n",
       "\n",
       "    .dataframe tbody tr th {\n",
       "        vertical-align: top;\n",
       "    }\n",
       "\n",
       "    .dataframe thead th {\n",
       "        text-align: right;\n",
       "    }\n",
       "</style>\n",
       "<table border=\"1\" class=\"dataframe\">\n",
       "  <thead>\n",
       "    <tr style=\"text-align: right;\">\n",
       "      <th></th>\n",
       "      <th>id</th>\n",
       "      <th>PitchNo</th>\n",
       "      <th>Date</th>\n",
       "      <th>Time</th>\n",
       "      <th>PAofInning</th>\n",
       "      <th>PitchofPA</th>\n",
       "      <th>PitcherId</th>\n",
       "      <th>PitcherThrows</th>\n",
       "      <th>PitcherTeam</th>\n",
       "      <th>BatterId</th>\n",
       "      <th>...</th>\n",
       "      <th>ThrowTrajectoryZc2</th>\n",
       "      <th>PitchReleaseConfidence</th>\n",
       "      <th>PitchLocationConfidence</th>\n",
       "      <th>PitchMovementConfidence</th>\n",
       "      <th>HitLaunchConfidence</th>\n",
       "      <th>HitLandingConfidence</th>\n",
       "      <th>CatcherThrowCatchConfidence</th>\n",
       "      <th>CatcherThrowReleaseConfidence</th>\n",
       "      <th>CatcherThrowLocationConfidence</th>\n",
       "      <th>GameID</th>\n",
       "    </tr>\n",
       "  </thead>\n",
       "  <tbody>\n",
       "    <tr>\n",
       "      <th>0</th>\n",
       "      <td>6</td>\n",
       "      <td>6</td>\n",
       "      <td>2021-04-07</td>\n",
       "      <td>15:03:45</td>\n",
       "      <td>1</td>\n",
       "      <td>6</td>\n",
       "      <td>1.000080e+09</td>\n",
       "      <td>Right</td>\n",
       "      <td>TOW_TIG</td>\n",
       "      <td>1.000059e+09</td>\n",
       "      <td>...</td>\n",
       "      <td>NaN</td>\n",
       "      <td>High</td>\n",
       "      <td>High</td>\n",
       "      <td>High</td>\n",
       "      <td>Medium</td>\n",
       "      <td>Medium</td>\n",
       "      <td>NaN</td>\n",
       "      <td>NaN</td>\n",
       "      <td>NaN</td>\n",
       "      <td>57</td>\n",
       "    </tr>\n",
       "    <tr>\n",
       "      <th>1</th>\n",
       "      <td>16</td>\n",
       "      <td>16</td>\n",
       "      <td>2021-04-07</td>\n",
       "      <td>15:08:11</td>\n",
       "      <td>3</td>\n",
       "      <td>4</td>\n",
       "      <td>1.000080e+09</td>\n",
       "      <td>Right</td>\n",
       "      <td>TOW_TIG</td>\n",
       "      <td>1.000101e+09</td>\n",
       "      <td>...</td>\n",
       "      <td>NaN</td>\n",
       "      <td>High</td>\n",
       "      <td>High</td>\n",
       "      <td>High</td>\n",
       "      <td>High</td>\n",
       "      <td>High</td>\n",
       "      <td>NaN</td>\n",
       "      <td>NaN</td>\n",
       "      <td>NaN</td>\n",
       "      <td>57</td>\n",
       "    </tr>\n",
       "    <tr>\n",
       "      <th>2</th>\n",
       "      <td>32</td>\n",
       "      <td>32</td>\n",
       "      <td>2021-04-07</td>\n",
       "      <td>15:16:17</td>\n",
       "      <td>3</td>\n",
       "      <td>4</td>\n",
       "      <td>1.000025e+09</td>\n",
       "      <td>Right</td>\n",
       "      <td>NAV_MID</td>\n",
       "      <td>1.000059e+09</td>\n",
       "      <td>...</td>\n",
       "      <td>NaN</td>\n",
       "      <td>High</td>\n",
       "      <td>High</td>\n",
       "      <td>High</td>\n",
       "      <td>High</td>\n",
       "      <td>High</td>\n",
       "      <td>NaN</td>\n",
       "      <td>NaN</td>\n",
       "      <td>NaN</td>\n",
       "      <td>57</td>\n",
       "    </tr>\n",
       "    <tr>\n",
       "      <th>3</th>\n",
       "      <td>34</td>\n",
       "      <td>34</td>\n",
       "      <td>2021-04-07</td>\n",
       "      <td>15:18:22</td>\n",
       "      <td>1</td>\n",
       "      <td>2</td>\n",
       "      <td>1.000080e+09</td>\n",
       "      <td>Right</td>\n",
       "      <td>TOW_TIG</td>\n",
       "      <td>1.000013e+09</td>\n",
       "      <td>...</td>\n",
       "      <td>NaN</td>\n",
       "      <td>High</td>\n",
       "      <td>High</td>\n",
       "      <td>High</td>\n",
       "      <td>Medium</td>\n",
       "      <td>High</td>\n",
       "      <td>NaN</td>\n",
       "      <td>NaN</td>\n",
       "      <td>NaN</td>\n",
       "      <td>57</td>\n",
       "    </tr>\n",
       "    <tr>\n",
       "      <th>4</th>\n",
       "      <td>38</td>\n",
       "      <td>38</td>\n",
       "      <td>2021-04-07</td>\n",
       "      <td>15:19:48</td>\n",
       "      <td>2</td>\n",
       "      <td>4</td>\n",
       "      <td>1.000080e+09</td>\n",
       "      <td>Right</td>\n",
       "      <td>TOW_TIG</td>\n",
       "      <td>1.000059e+09</td>\n",
       "      <td>...</td>\n",
       "      <td>NaN</td>\n",
       "      <td>High</td>\n",
       "      <td>High</td>\n",
       "      <td>High</td>\n",
       "      <td>Medium</td>\n",
       "      <td>Medium</td>\n",
       "      <td>NaN</td>\n",
       "      <td>NaN</td>\n",
       "      <td>NaN</td>\n",
       "      <td>57</td>\n",
       "    </tr>\n",
       "  </tbody>\n",
       "</table>\n",
       "<p>5 rows × 166 columns</p>\n",
       "</div>"
      ],
      "text/plain": [
       "   id  PitchNo        Date      Time  PAofInning  PitchofPA     PitcherId  \\\n",
       "0   6        6  2021-04-07  15:03:45           1          6  1.000080e+09   \n",
       "1  16       16  2021-04-07  15:08:11           3          4  1.000080e+09   \n",
       "2  32       32  2021-04-07  15:16:17           3          4  1.000025e+09   \n",
       "3  34       34  2021-04-07  15:18:22           1          2  1.000080e+09   \n",
       "4  38       38  2021-04-07  15:19:48           2          4  1.000080e+09   \n",
       "\n",
       "  PitcherThrows PitcherTeam      BatterId  ... ThrowTrajectoryZc2  \\\n",
       "0         Right     TOW_TIG  1.000059e+09  ...                NaN   \n",
       "1         Right     TOW_TIG  1.000101e+09  ...                NaN   \n",
       "2         Right     NAV_MID  1.000059e+09  ...                NaN   \n",
       "3         Right     TOW_TIG  1.000013e+09  ...                NaN   \n",
       "4         Right     TOW_TIG  1.000059e+09  ...                NaN   \n",
       "\n",
       "  PitchReleaseConfidence PitchLocationConfidence  PitchMovementConfidence  \\\n",
       "0                   High                    High                     High   \n",
       "1                   High                    High                     High   \n",
       "2                   High                    High                     High   \n",
       "3                   High                    High                     High   \n",
       "4                   High                    High                     High   \n",
       "\n",
       "  HitLaunchConfidence  HitLandingConfidence  CatcherThrowCatchConfidence  \\\n",
       "0              Medium                Medium                          NaN   \n",
       "1                High                  High                          NaN   \n",
       "2                High                  High                          NaN   \n",
       "3              Medium                  High                          NaN   \n",
       "4              Medium                Medium                          NaN   \n",
       "\n",
       "   CatcherThrowReleaseConfidence CatcherThrowLocationConfidence GameID  \n",
       "0                            NaN                            NaN     57  \n",
       "1                            NaN                            NaN     57  \n",
       "2                            NaN                            NaN     57  \n",
       "3                            NaN                            NaN     57  \n",
       "4                            NaN                            NaN     57  \n",
       "\n",
       "[5 rows x 166 columns]"
      ]
     },
     "execution_count": 100,
     "metadata": {},
     "output_type": "execute_result"
    }
   ],
   "source": [
    "data = pd.read_csv('NCAA_Pitch.csv')\n",
    "data.head(5)"
   ]
  },
  {
   "cell_type": "code",
   "execution_count": 41,
   "metadata": {
    "scrolled": false
   },
   "outputs": [],
   "source": [
    "#list(data.columns)"
   ]
  },
  {
   "cell_type": "markdown",
   "metadata": {},
   "source": [
    "For the in depth descriptions of each of these metrics visit Trackman's metric glossary: https://support.trackmanbaseball.com/hc/en-us/articles/5089413493787-V3-FAQs-Radar-Measurement-Glossary-Of-Terms"
   ]
  },
  {
   "cell_type": "markdown",
   "metadata": {},
   "source": [
    "# Exploratory Data Analysis\n",
    "### Movement Plots\n",
    "\n",
    "I created the movement plots for both left and right handed pitchers, to highlight the difference in their movement profiles. Traditionally in baseball, velocity in combination with horizontal and induced vertical break are used to identify pitch type.\n",
    "\n",
    "Left and right handed pitchers have opposite horizontal movements patterns so I will be creating seperate visualizations to highlight the differences in the movement patterns."
   ]
  },
  {
   "cell_type": "code",
   "execution_count": 254,
   "metadata": {
    "scrolled": true
   },
   "outputs": [
    {
     "data": {
      "image/png": "[encoded data removed]",
      "text/plain": [
       "<Figure size 432x288 with 1 Axes>"
      ]
     },
     "metadata": {},
     "output_type": "display_data"
    },
    {
     "data": {
      "text/plain": [
       "<Figure size 864x576 with 0 Axes>"
      ]
     },
     "metadata": {},
     "output_type": "display_data"
    }
   ],
   "source": [
    "#leftie pitch plots\n",
    "dataL = data[data['PitcherThrows'] == \"Left\"]\n",
    "xL = dataL['HorzBreak']\n",
    "yL = dataL['InducedVertBreak']\n",
    "zL = dataL['TaggedPitchType']\n",
    "\n",
    "pitch_types = zL.unique()\n",
    "\n",
    "color_map = plt.get_cmap('tab10')\n",
    "color_dict = {pitch_type: color_map(i) for i, pitch_type in enumerate(pitch_types)}\n",
    "\n",
    "color_values = [color_dict[pitch_type] for pitch_type in zL]\n",
    "\n",
    "\n",
    "scatter = plt.scatter(xL, yL, c = color_values, s = 2, label = zL)\n",
    "\n",
    "plt.title(\"NCAA Pitch Movement Profiles (LHP)\")\n",
    "plt.ylabel(\"Induced Vertical Break (in)\")\n",
    "plt.xlabel(\"Horizontal Break (in)\")\n",
    "\n",
    "handles = [plt.Line2D([0], [0], marker='o', color='w', markerfacecolor=color_map(i / len(pitch_types)), markersize=7) for i, pitch_type in enumerate(pitch_types)]\n",
    "labels = pitch_types\n",
    "plt.legend(handles, labels, title = 'Pitch Types')\n",
    "plt.figure(figsize = (12, 8))\n",
    "plt.show()"
   ]
  },
  {
   "cell_type": "code",
   "execution_count": 255,
   "metadata": {},
   "outputs": [
    {
     "data": {
      "image/png": "[encoded data removed]",
      "text/plain": [
       "<Figure size 432x288 with 1 Axes>"
      ]
     },
     "metadata": {},
     "output_type": "display_data"
    },
    {
     "data": {
      "text/plain": [
       "<Figure size 864x576 with 0 Axes>"
      ]
     },
     "metadata": {},
     "output_type": "display_data"
    }
   ],
   "source": [
    "#rightie pitch plots\n",
    "dataR = data[data['PitcherThrows'] == \"Right\"]\n",
    "xR = dataR['HorzBreak']\n",
    "yR = dataR['InducedVertBreak']\n",
    "zR = dataR['TaggedPitchType']\n",
    "\n",
    "pitch_types = zR.unique()\n",
    "\n",
    "color_map = plt.get_cmap('tab10')\n",
    "color_dict = {pitch_type: color_map(i) for i, pitch_type in enumerate(pitch_types)}\n",
    "\n",
    "color_values = [color_dict[pitch_type] for pitch_type in zR]\n",
    "\n",
    "\n",
    "scatter = plt.scatter(xR, yR, c = color_values, s = 2, label = zR)\n",
    "\n",
    "plt.title(\"NCAA Pitch Movement Profiles (RHP)\")\n",
    "plt.ylabel(\"Induced Vertical Break (in)\")\n",
    "plt.xlabel(\"Horizontal Break (in)\")\n",
    "\n",
    "handles = [plt.Line2D([0], [0], marker='o', \n",
    "                      color='w', \n",
    "                      markerfacecolor=color_map(i / len(pitch_types)), \n",
    "                      markersize=7) for i, \n",
    "           pitch_type in enumerate(pitch_types)]\n",
    "\n",
    "labels = pitch_types\n",
    "plt.legend(handles, labels, title = 'Pitch Type Movement Plot (RHP)')\n",
    "plt.figure(figsize = (12, 8))\n",
    "plt.show()"
   ]
  },
  {
   "cell_type": "markdown",
   "metadata": {},
   "source": [
    "## Preprocessing"
   ]
  },
  {
   "cell_type": "code",
   "execution_count": 101,
   "metadata": {},
   "outputs": [],
   "source": [
    "#Updating the data to include only the pitching related columns\n",
    "cols = ['PitcherThrows', 'RelSpeed', 'VertRelAngle', 'HorzRelAngle', 'SpinRate', 'SpinAxis',\n",
    "            'RelHeight', 'RelSide', 'Extension', 'VertBreak', 'InducedVertBreak', 'HorzBreak', 'ZoneSpeed',\n",
    "           'VertApprAngle', 'HorzApprAngle', 'PitchTrajectoryXc0','PitchTrajectoryXc1', 'PitchTrajectoryXc2',\n",
    "            'PitchTrajectoryYc0', 'PitchTrajectoryYc1', 'PitchTrajectoryYc2', 'PitchTrajectoryZc0',\n",
    "            'PitchTrajectoryZc1','PitchTrajectoryZc2', 'TaggedPitchType', 'Tilt']\n",
    "\n",
    "updated_df = data[cols]\n"
   ]
  },
  {
   "cell_type": "code",
   "execution_count": 102,
   "metadata": {},
   "outputs": [
    {
     "data": {
      "text/html": [
       "<div>\n",
       "<style scoped>\n",
       "    .dataframe tbody tr th:only-of-type {\n",
       "        vertical-align: middle;\n",
       "    }\n",
       "\n",
       "    .dataframe tbody tr th {\n",
       "        vertical-align: top;\n",
       "    }\n",
       "\n",
       "    .dataframe thead th {\n",
       "        text-align: right;\n",
       "    }\n",
       "</style>\n",
       "<table border=\"1\" class=\"dataframe\">\n",
       "  <thead>\n",
       "    <tr style=\"text-align: right;\">\n",
       "      <th></th>\n",
       "      <th>PitcherThrows</th>\n",
       "      <th>RelSpeed</th>\n",
       "      <th>VertRelAngle</th>\n",
       "      <th>HorzRelAngle</th>\n",
       "      <th>SpinRate</th>\n",
       "      <th>SpinAxis</th>\n",
       "      <th>RelHeight</th>\n",
       "      <th>RelSide</th>\n",
       "      <th>Extension</th>\n",
       "      <th>VertBreak</th>\n",
       "      <th>...</th>\n",
       "      <th>PitchTrajectoryXc1</th>\n",
       "      <th>PitchTrajectoryXc2</th>\n",
       "      <th>PitchTrajectoryYc0</th>\n",
       "      <th>PitchTrajectoryYc1</th>\n",
       "      <th>PitchTrajectoryYc2</th>\n",
       "      <th>PitchTrajectoryZc0</th>\n",
       "      <th>PitchTrajectoryZc1</th>\n",
       "      <th>PitchTrajectoryZc2</th>\n",
       "      <th>TaggedPitchType</th>\n",
       "      <th>Tilt</th>\n",
       "    </tr>\n",
       "  </thead>\n",
       "  <tbody>\n",
       "    <tr>\n",
       "      <th>0</th>\n",
       "      <td>Right</td>\n",
       "      <td>87.7942</td>\n",
       "      <td>-2.316140</td>\n",
       "      <td>-1.48219</td>\n",
       "      <td>2074.21</td>\n",
       "      <td>193.273</td>\n",
       "      <td>6.39639</td>\n",
       "      <td>1.25232</td>\n",
       "      <td>5.62407</td>\n",
       "      <td>-14.4967</td>\n",
       "      <td>...</td>\n",
       "      <td>-128.294</td>\n",
       "      <td>14.9429</td>\n",
       "      <td>6.39219</td>\n",
       "      <td>-5.07470</td>\n",
       "      <td>-5.88970</td>\n",
       "      <td>-1.25003</td>\n",
       "      <td>3.25817</td>\n",
       "      <td>-2.44303</td>\n",
       "      <td>Fastball</td>\n",
       "      <td>12:30:00</td>\n",
       "    </tr>\n",
       "    <tr>\n",
       "      <th>1</th>\n",
       "      <td>Right</td>\n",
       "      <td>78.6510</td>\n",
       "      <td>-3.237650</td>\n",
       "      <td>-2.15585</td>\n",
       "      <td>1743.14</td>\n",
       "      <td>176.354</td>\n",
       "      <td>6.21378</td>\n",
       "      <td>1.55537</td>\n",
       "      <td>5.58387</td>\n",
       "      <td>-20.2948</td>\n",
       "      <td>...</td>\n",
       "      <td>-114.773</td>\n",
       "      <td>12.5362</td>\n",
       "      <td>6.20956</td>\n",
       "      <td>-6.39518</td>\n",
       "      <td>-6.43732</td>\n",
       "      <td>-1.55554</td>\n",
       "      <td>4.33739</td>\n",
       "      <td>0.04007</td>\n",
       "      <td>ChangeUp</td>\n",
       "      <td>12:00:00</td>\n",
       "    </tr>\n",
       "    <tr>\n",
       "      <th>2</th>\n",
       "      <td>Right</td>\n",
       "      <td>83.7694</td>\n",
       "      <td>-0.945851</td>\n",
       "      <td>-3.61505</td>\n",
       "      <td>2063.13</td>\n",
       "      <td>194.331</td>\n",
       "      <td>5.58439</td>\n",
       "      <td>2.96050</td>\n",
       "      <td>6.79323</td>\n",
       "      <td>-21.0996</td>\n",
       "      <td>...</td>\n",
       "      <td>-122.319</td>\n",
       "      <td>13.0979</td>\n",
       "      <td>5.58271</td>\n",
       "      <td>-1.97702</td>\n",
       "      <td>-8.59524</td>\n",
       "      <td>-2.95833</td>\n",
       "      <td>7.68082</td>\n",
       "      <td>-2.47728</td>\n",
       "      <td>Fastball</td>\n",
       "      <td>12:30:00</td>\n",
       "    </tr>\n",
       "    <tr>\n",
       "      <th>3</th>\n",
       "      <td>Right</td>\n",
       "      <td>87.2288</td>\n",
       "      <td>-2.433030</td>\n",
       "      <td>-1.51020</td>\n",
       "      <td>2049.19</td>\n",
       "      <td>183.578</td>\n",
       "      <td>6.36527</td>\n",
       "      <td>1.16780</td>\n",
       "      <td>5.48250</td>\n",
       "      <td>-12.4688</td>\n",
       "      <td>...</td>\n",
       "      <td>-127.431</td>\n",
       "      <td>15.7290</td>\n",
       "      <td>6.36003</td>\n",
       "      <td>-5.26725</td>\n",
       "      <td>-4.85992</td>\n",
       "      <td>-1.16691</td>\n",
       "      <td>3.34104</td>\n",
       "      <td>-1.01793</td>\n",
       "      <td>Fastball</td>\n",
       "      <td>12:00:00</td>\n",
       "    </tr>\n",
       "    <tr>\n",
       "      <th>4</th>\n",
       "      <td>Right</td>\n",
       "      <td>88.3147</td>\n",
       "      <td>-3.345550</td>\n",
       "      <td>-1.49199</td>\n",
       "      <td>2083.12</td>\n",
       "      <td>195.554</td>\n",
       "      <td>6.32208</td>\n",
       "      <td>1.41026</td>\n",
       "      <td>5.61121</td>\n",
       "      <td>-13.4307</td>\n",
       "      <td>...</td>\n",
       "      <td>-128.939</td>\n",
       "      <td>15.3537</td>\n",
       "      <td>6.31744</td>\n",
       "      <td>-7.41420</td>\n",
       "      <td>-5.19747</td>\n",
       "      <td>-1.40755</td>\n",
       "      <td>3.28298</td>\n",
       "      <td>-2.93283</td>\n",
       "      <td>Fastball</td>\n",
       "      <td>12:30:00</td>\n",
       "    </tr>\n",
       "  </tbody>\n",
       "</table>\n",
       "<p>5 rows × 26 columns</p>\n",
       "</div>"
      ],
      "text/plain": [
       "  PitcherThrows  RelSpeed  VertRelAngle  HorzRelAngle  SpinRate  SpinAxis  \\\n",
       "0         Right   87.7942     -2.316140      -1.48219   2074.21   193.273   \n",
       "1         Right   78.6510     -3.237650      -2.15585   1743.14   176.354   \n",
       "2         Right   83.7694     -0.945851      -3.61505   2063.13   194.331   \n",
       "3         Right   87.2288     -2.433030      -1.51020   2049.19   183.578   \n",
       "4         Right   88.3147     -3.345550      -1.49199   2083.12   195.554   \n",
       "\n",
       "   RelHeight  RelSide  Extension  VertBreak  ...  PitchTrajectoryXc1  \\\n",
       "0    6.39639  1.25232    5.62407   -14.4967  ...            -128.294   \n",
       "1    6.21378  1.55537    5.58387   -20.2948  ...            -114.773   \n",
       "2    5.58439  2.96050    6.79323   -21.0996  ...            -122.319   \n",
       "3    6.36527  1.16780    5.48250   -12.4688  ...            -127.431   \n",
       "4    6.32208  1.41026    5.61121   -13.4307  ...            -128.939   \n",
       "\n",
       "   PitchTrajectoryXc2  PitchTrajectoryYc0  PitchTrajectoryYc1  \\\n",
       "0             14.9429             6.39219            -5.07470   \n",
       "1             12.5362             6.20956            -6.39518   \n",
       "2             13.0979             5.58271            -1.97702   \n",
       "3             15.7290             6.36003            -5.26725   \n",
       "4             15.3537             6.31744            -7.41420   \n",
       "\n",
       "   PitchTrajectoryYc2  PitchTrajectoryZc0  PitchTrajectoryZc1  \\\n",
       "0            -5.88970            -1.25003             3.25817   \n",
       "1            -6.43732            -1.55554             4.33739   \n",
       "2            -8.59524            -2.95833             7.68082   \n",
       "3            -4.85992            -1.16691             3.34104   \n",
       "4            -5.19747            -1.40755             3.28298   \n",
       "\n",
       "   PitchTrajectoryZc2  TaggedPitchType      Tilt  \n",
       "0            -2.44303         Fastball  12:30:00  \n",
       "1             0.04007         ChangeUp  12:00:00  \n",
       "2            -2.47728         Fastball  12:30:00  \n",
       "3            -1.01793         Fastball  12:00:00  \n",
       "4            -2.93283         Fastball  12:30:00  \n",
       "\n",
       "[5 rows x 26 columns]"
      ]
     },
     "execution_count": 102,
     "metadata": {},
     "output_type": "execute_result"
    }
   ],
   "source": [
    "updated_df.head(5)"
   ]
  },
  {
   "cell_type": "code",
   "execution_count": 103,
   "metadata": {},
   "outputs": [],
   "source": [
    "# conversion for HB + HorzApprAngle and then implement this back into the OG DF, THEN run the models\n",
    "def left_to_right_movement(data):\n",
    "    tilt_mapping = {\n",
    "        '11:45:00':'12:15:00','11:30:00': '12:30:00','11:15:00':'12:45:00','11:00:00':'01:00:00', \n",
    "        '10:45:00':'01:15:00', '10:30:00':'01:30:00','10:15:00':'01:45:00','10:00:00':'02:00:00',\n",
    "        '09:45:00':'02:15:00','09:30:00':'02:30:00','09:15:00':'02:45:00','09:00:00':'03:00:00',\n",
    "        '08:45:00':'03:15:00','08:30:00':'03:30:00','08:15:00':'03:45:00','08:00:00':'04:00:00',\n",
    "        '07:45:00':'04:15:00','07:30:00':'04:30:00','07:15:00':'04:45:00','07:00:00':'05:00:00',\n",
    "        '06:45:00':'05:15:00','06:30:00':'05:30:00','06:15:00':'05:45:00',\n",
    "        '05:45:00':'06:15:00','05:30:00':'06:30:00','05:15:00':'06:45:00','05:00:00':'07:00:00',\n",
    "        '04:45:00':'07:15:00','04:30:00':'07:30:00','04:15:00':'07:45:00','04:00:00':'08:00:00',\n",
    "        '03:45:00':'08:15:00','03:30:00':'08:30:00','03:15:00':'08:45:00','03:00:00':'09:00:00',\n",
    "        '02:45:00':'09:15:00','02:30:00':'09:30:00','02:15:00':'09:45:00','02:00:00':'10:00:00',\n",
    "        '01:45:00':'10:15:00','01:30:00':'10:30:00','01:15:00':'10:45:00','01:00:00':'11:00:00'}\n",
    "    \n",
    "    if data['PitcherThrows'].iloc[0] == 'Left':\n",
    "        data['Tilt'] = data['Tilt'].map(tilt_mapping)\n",
    "        \n",
    "    for col in ['HorzBreak', 'RelSide', 'HorzRelAngle', 'HorzApprAngle', 'PitchTrajectoryZc0', 'PitchTrajectoryZc1', 'PitchTrajectoryZc2']:\n",
    "        if col in data.columns:\n",
    "            data[col] = data[col]*-1\n",
    "            \n",
    "    data = data.drop('PitcherThrows', axis=1)\n",
    "    return data\n",
    "\n"
   ]
  },
  {
   "cell_type": "code",
   "execution_count": 104,
   "metadata": {},
   "outputs": [
    {
     "name": "stderr",
     "output_type": "stream",
     "text": [
      "<ipython-input-103-5b0e0ba3ea47>:21: SettingWithCopyWarning: \n",
      "A value is trying to be set on a copy of a slice from a DataFrame.\n",
      "Try using .loc[row_indexer,col_indexer] = value instead\n",
      "\n",
      "See the caveats in the documentation: https://pandas.pydata.org/pandas-docs/stable/user_guide/indexing.html#returning-a-view-versus-a-copy\n",
      "  data[col] = data[col]*-1\n"
     ]
    }
   ],
   "source": [
    "data = left_to_right_movement(updated_df)"
   ]
  },
  {
   "cell_type": "code",
   "execution_count": 105,
   "metadata": {},
   "outputs": [],
   "source": [
    "#data.head(5)"
   ]
  },
  {
   "cell_type": "code",
   "execution_count": 106,
   "metadata": {},
   "outputs": [],
   "source": [
    "data['Tilt_minutes'] = (pd.to_timedelta(data['Tilt']).dt.total_seconds())/60\n",
    "updated_df = data.drop(\"Tilt\", axis = 1)\n",
    "updated_df.dropna(inplace=True)"
   ]
  },
  {
   "cell_type": "markdown",
   "metadata": {},
   "source": [
    "## Model Evaluation (Part 1)\n",
    "\n",
    "Here I wanted to examine various models and see what their performance looks like after encoding desired categorical metrics. Categorical data is important to have included here because it can provide some further context to the model, which will impact the models ability to learn and make accurate predictions."
   ]
  },
  {
   "cell_type": "code",
   "execution_count": 107,
   "metadata": {},
   "outputs": [],
   "source": [
    "y = updated_df['TaggedPitchType']\n",
    "X = updated_df.drop('TaggedPitchType', axis = 1)\n",
    "\n",
    "X_train, X_test, y_train, y_test = train_test_split(X, y, random_state = 22)"
   ]
  },
  {
   "cell_type": "markdown",
   "metadata": {},
   "source": [
    "#### KNN"
   ]
  },
  {
   "cell_type": "code",
   "execution_count": 108,
   "metadata": {},
   "outputs": [
    {
     "name": "stdout",
     "output_type": "stream",
     "text": [
      "Training Accuracy:  0.8481401227880101\n",
      "Test Accuracy:  0.7975300617484563\n"
     ]
    }
   ],
   "source": [
    "knn = KNeighborsClassifier(n_neighbors = 5)\n",
    "knn.fit(X_train, y_train)\n",
    "y_train_pred = knn.predict(X_train)\n",
    "y_pred_knn = knn.predict(X_test)\n",
    "\n",
    "print(\"Training Accuracy: \", accuracy_score(y_train, y_train_pred))\n",
    "print(\"Test Accuracy: \", accuracy_score(y_test, y_pred_knn))"
   ]
  },
  {
   "cell_type": "markdown",
   "metadata": {},
   "source": [
    "#### SVM"
   ]
  },
  {
   "cell_type": "code",
   "execution_count": 109,
   "metadata": {},
   "outputs": [
    {
     "name": "stdout",
     "output_type": "stream",
     "text": [
      "Training Accuracy:  0.7689779703864211\n",
      "Test Accuracy:  0.7583143754739465\n"
     ]
    }
   ],
   "source": [
    "svc = SVC(kernel = 'rbf', random_state = 2)\n",
    "svc.fit(X_train, y_train)\n",
    "y_train_SVC = svc.predict(X_train)\n",
    "y_pred_SVC = svc.predict(X_test)\n",
    "\n",
    "print(\"Training Accuracy: \", accuracy_score(y_train, y_train_SVC))\n",
    "print(\"Test Accuracy: \", accuracy_score(y_test, y_pred_SVC))"
   ]
  },
  {
   "cell_type": "markdown",
   "metadata": {},
   "source": [
    "#### Naive Bayes"
   ]
  },
  {
   "cell_type": "code",
   "execution_count": 110,
   "metadata": {},
   "outputs": [
    {
     "name": "stdout",
     "output_type": "stream",
     "text": [
      "Training Accuracy:  0.7202600216684724\n",
      "Test Accuracy:  0.72083197920052\n"
     ]
    }
   ],
   "source": [
    "gnb = GaussianNB()\n",
    "gnb.fit(X_train, y_train)\n",
    "y_pred_gnb = gnb.predict(X_test)\n",
    "y_train_nb = gnb.predict(X_train)\n",
    "\n",
    "print(\"Training Accuracy: \", accuracy_score(y_train, y_train_nb))\n",
    "print(\"Test Accuracy: \", accuracy_score(y_test, y_pred_gnb))"
   ]
  },
  {
   "cell_type": "markdown",
   "metadata": {},
   "source": [
    "#### Decision Tree"
   ]
  },
  {
   "cell_type": "code",
   "execution_count": 111,
   "metadata": {},
   "outputs": [
    {
     "name": "stdout",
     "output_type": "stream",
     "text": [
      "Training Accuracy:  1.0\n",
      "Test Accuracy:  0.7896219261185137\n"
     ]
    }
   ],
   "source": [
    "dt = DecisionTreeClassifier()\n",
    "dt.fit(X_train, y_train)\n",
    "y_pred_dt = dt.predict(X_test)\n",
    "y_train_dt = dt.predict(X_train)\n",
    "\n",
    "print(\"Training Accuracy: \", accuracy_score(y_train, y_train_dt))\n",
    "print(\"Test Accuracy: \", accuracy_score(y_test, y_pred_dt))"
   ]
  },
  {
   "cell_type": "markdown",
   "metadata": {},
   "source": [
    "The accuracy scores are lower than I had anticipated and so I decided to look into the distribution of the pitch type data for further insight."
   ]
  },
  {
   "cell_type": "code",
   "execution_count": 200,
   "metadata": {},
   "outputs": [
    {
     "data": {
      "image/png": "[encoded data removed]",
      "text/plain": [
       "<Figure size 432x288 with 1 Axes>"
      ]
     },
     "metadata": {},
     "output_type": "display_data"
    }
   ],
   "source": [
    "sns.countplot(y = one_hot_encoded_data['TaggedPitchType'])\n",
    "plt.title('Distribution of Pitch Types')\n",
    "plt.xlabel('Frequency')\n",
    "plt.ylabel('Pitch Types')\n",
    "plt.show()"
   ]
  },
  {
   "cell_type": "markdown",
   "metadata": {},
   "source": [
    "Generally, when one is referring to the \"fastball\", they are talking about the four-seam fastball. The sinker is a two-seam fastball and at the collegiate level, many people just refer to sinkers as fastballs. The distinction between the two pitch types comes from the way that the pitcher orients the seams of the ball when throwing it. The sinker tends to have more horizontal movement / armside movement (run). Opposed to the traditional four-seam fastball which has more vertical movement and is more resistant to \"dropping\" (ride).\n",
    "\n",
    "For the purposes of this project, seeing as I'm trying to predict college pitch types, I'll be categorizing sinkers as fastballs. Additionally, due to the data imbalance for certain pitch types (Other, Splittler, Undefined, and Knuckleball), these pitch types will be excluded from the dataset to ensure more reliable model performance. "
   ]
  },
  {
   "cell_type": "code",
   "execution_count": 112,
   "metadata": {},
   "outputs": [],
   "source": [
    "# function to remove uncommon pitch types\n",
    "def pitch_type_adjust(data):\n",
    "    data['TaggedPitchType'] = data['TaggedPitchType'].replace('Sinker', 'Fastball')\n",
    "        \n",
    "    nope = ['Other', 'Splitter', 'Undefined', 'Knuckleball']\n",
    "    data[~data['TaggedPitchType'].isin(nope)]\n",
    "        \n",
    "    return data\n",
    "    "
   ]
  },
  {
   "cell_type": "code",
   "execution_count": 113,
   "metadata": {},
   "outputs": [
    {
     "data": {
      "text/html": [
       "<div>\n",
       "<style scoped>\n",
       "    .dataframe tbody tr th:only-of-type {\n",
       "        vertical-align: middle;\n",
       "    }\n",
       "\n",
       "    .dataframe tbody tr th {\n",
       "        vertical-align: top;\n",
       "    }\n",
       "\n",
       "    .dataframe thead th {\n",
       "        text-align: right;\n",
       "    }\n",
       "</style>\n",
       "<table border=\"1\" class=\"dataframe\">\n",
       "  <thead>\n",
       "    <tr style=\"text-align: right;\">\n",
       "      <th></th>\n",
       "      <th>RelSpeed</th>\n",
       "      <th>VertRelAngle</th>\n",
       "      <th>HorzRelAngle</th>\n",
       "      <th>SpinRate</th>\n",
       "      <th>SpinAxis</th>\n",
       "      <th>RelHeight</th>\n",
       "      <th>RelSide</th>\n",
       "      <th>Extension</th>\n",
       "      <th>VertBreak</th>\n",
       "      <th>InducedVertBreak</th>\n",
       "      <th>...</th>\n",
       "      <th>PitchTrajectoryXc1</th>\n",
       "      <th>PitchTrajectoryXc2</th>\n",
       "      <th>PitchTrajectoryYc0</th>\n",
       "      <th>PitchTrajectoryYc1</th>\n",
       "      <th>PitchTrajectoryYc2</th>\n",
       "      <th>PitchTrajectoryZc0</th>\n",
       "      <th>PitchTrajectoryZc1</th>\n",
       "      <th>PitchTrajectoryZc2</th>\n",
       "      <th>TaggedPitchType</th>\n",
       "      <th>Tilt_minutes</th>\n",
       "    </tr>\n",
       "  </thead>\n",
       "  <tbody>\n",
       "    <tr>\n",
       "      <th>0</th>\n",
       "      <td>87.7942</td>\n",
       "      <td>-2.316140</td>\n",
       "      <td>1.48219</td>\n",
       "      <td>2074.21</td>\n",
       "      <td>193.2730</td>\n",
       "      <td>6.39639</td>\n",
       "      <td>-1.25232</td>\n",
       "      <td>5.62407</td>\n",
       "      <td>-14.4967</td>\n",
       "      <td>22.71110</td>\n",
       "      <td>...</td>\n",
       "      <td>-128.294</td>\n",
       "      <td>14.9429</td>\n",
       "      <td>6.39219</td>\n",
       "      <td>-5.07470</td>\n",
       "      <td>-5.88970</td>\n",
       "      <td>1.25003</td>\n",
       "      <td>-3.25817</td>\n",
       "      <td>2.44303</td>\n",
       "      <td>Fastball</td>\n",
       "      <td>750.0</td>\n",
       "    </tr>\n",
       "    <tr>\n",
       "      <th>1</th>\n",
       "      <td>78.6510</td>\n",
       "      <td>-3.237650</td>\n",
       "      <td>2.15585</td>\n",
       "      <td>1743.14</td>\n",
       "      <td>176.3540</td>\n",
       "      <td>6.21378</td>\n",
       "      <td>-1.55537</td>\n",
       "      <td>5.58387</td>\n",
       "      <td>-20.2948</td>\n",
       "      <td>26.51700</td>\n",
       "      <td>...</td>\n",
       "      <td>-114.773</td>\n",
       "      <td>12.5362</td>\n",
       "      <td>6.20956</td>\n",
       "      <td>-6.39518</td>\n",
       "      <td>-6.43732</td>\n",
       "      <td>1.55554</td>\n",
       "      <td>-4.33739</td>\n",
       "      <td>-0.04007</td>\n",
       "      <td>ChangeUp</td>\n",
       "      <td>720.0</td>\n",
       "    </tr>\n",
       "    <tr>\n",
       "      <th>2</th>\n",
       "      <td>83.7694</td>\n",
       "      <td>-0.945851</td>\n",
       "      <td>3.61505</td>\n",
       "      <td>2063.13</td>\n",
       "      <td>194.3310</td>\n",
       "      <td>5.58439</td>\n",
       "      <td>-2.96050</td>\n",
       "      <td>6.79323</td>\n",
       "      <td>-21.0996</td>\n",
       "      <td>17.81280</td>\n",
       "      <td>...</td>\n",
       "      <td>-122.319</td>\n",
       "      <td>13.0979</td>\n",
       "      <td>5.58271</td>\n",
       "      <td>-1.97702</td>\n",
       "      <td>-8.59524</td>\n",
       "      <td>2.95833</td>\n",
       "      <td>-7.68082</td>\n",
       "      <td>2.47728</td>\n",
       "      <td>Fastball</td>\n",
       "      <td>750.0</td>\n",
       "    </tr>\n",
       "    <tr>\n",
       "      <th>3</th>\n",
       "      <td>87.2288</td>\n",
       "      <td>-2.433030</td>\n",
       "      <td>1.51020</td>\n",
       "      <td>2049.19</td>\n",
       "      <td>183.5780</td>\n",
       "      <td>6.36527</td>\n",
       "      <td>-1.16780</td>\n",
       "      <td>5.48250</td>\n",
       "      <td>-12.4688</td>\n",
       "      <td>25.74060</td>\n",
       "      <td>...</td>\n",
       "      <td>-127.431</td>\n",
       "      <td>15.7290</td>\n",
       "      <td>6.36003</td>\n",
       "      <td>-5.26725</td>\n",
       "      <td>-4.85992</td>\n",
       "      <td>1.16691</td>\n",
       "      <td>-3.34104</td>\n",
       "      <td>1.01793</td>\n",
       "      <td>Fastball</td>\n",
       "      <td>720.0</td>\n",
       "    </tr>\n",
       "    <tr>\n",
       "      <th>4</th>\n",
       "      <td>88.3147</td>\n",
       "      <td>-3.345550</td>\n",
       "      <td>1.49199</td>\n",
       "      <td>2083.12</td>\n",
       "      <td>195.5540</td>\n",
       "      <td>6.32208</td>\n",
       "      <td>-1.41026</td>\n",
       "      <td>5.61121</td>\n",
       "      <td>-13.4307</td>\n",
       "      <td>23.49540</td>\n",
       "      <td>...</td>\n",
       "      <td>-128.939</td>\n",
       "      <td>15.3537</td>\n",
       "      <td>6.31744</td>\n",
       "      <td>-7.41420</td>\n",
       "      <td>-5.19747</td>\n",
       "      <td>1.40755</td>\n",
       "      <td>-3.28298</td>\n",
       "      <td>2.93283</td>\n",
       "      <td>Fastball</td>\n",
       "      <td>750.0</td>\n",
       "    </tr>\n",
       "    <tr>\n",
       "      <th>...</th>\n",
       "      <td>...</td>\n",
       "      <td>...</td>\n",
       "      <td>...</td>\n",
       "      <td>...</td>\n",
       "      <td>...</td>\n",
       "      <td>...</td>\n",
       "      <td>...</td>\n",
       "      <td>...</td>\n",
       "      <td>...</td>\n",
       "      <td>...</td>\n",
       "      <td>...</td>\n",
       "      <td>...</td>\n",
       "      <td>...</td>\n",
       "      <td>...</td>\n",
       "      <td>...</td>\n",
       "      <td>...</td>\n",
       "      <td>...</td>\n",
       "      <td>...</td>\n",
       "      <td>...</td>\n",
       "      <td>...</td>\n",
       "      <td>...</td>\n",
       "    </tr>\n",
       "    <tr>\n",
       "      <th>37054</th>\n",
       "      <td>77.8320</td>\n",
       "      <td>0.487803</td>\n",
       "      <td>-3.79674</td>\n",
       "      <td>1629.89</td>\n",
       "      <td>89.1505</td>\n",
       "      <td>4.96262</td>\n",
       "      <td>1.48449</td>\n",
       "      <td>6.13498</td>\n",
       "      <td>-44.7470</td>\n",
       "      <td>1.22839</td>\n",
       "      <td>...</td>\n",
       "      <td>-113.748</td>\n",
       "      <td>10.7878</td>\n",
       "      <td>4.96757</td>\n",
       "      <td>0.83277</td>\n",
       "      <td>-15.51590</td>\n",
       "      <td>-1.47783</td>\n",
       "      <td>7.37037</td>\n",
       "      <td>-7.06468</td>\n",
       "      <td>ChangeUp</td>\n",
       "      <td>540.0</td>\n",
       "    </tr>\n",
       "    <tr>\n",
       "      <th>37055</th>\n",
       "      <td>91.9834</td>\n",
       "      <td>-3.016400</td>\n",
       "      <td>-2.31560</td>\n",
       "      <td>2055.19</td>\n",
       "      <td>160.8450</td>\n",
       "      <td>6.28585</td>\n",
       "      <td>1.78022</td>\n",
       "      <td>6.68517</td>\n",
       "      <td>-10.5206</td>\n",
       "      <td>22.21320</td>\n",
       "      <td>...</td>\n",
       "      <td>-134.281</td>\n",
       "      <td>17.1792</td>\n",
       "      <td>6.28117</td>\n",
       "      <td>-6.94342</td>\n",
       "      <td>-4.54720</td>\n",
       "      <td>-1.77695</td>\n",
       "      <td>5.33487</td>\n",
       "      <td>-4.07897</td>\n",
       "      <td>Fastball</td>\n",
       "      <td>675.0</td>\n",
       "    </tr>\n",
       "    <tr>\n",
       "      <th>37056</th>\n",
       "      <td>91.0094</td>\n",
       "      <td>-2.001200</td>\n",
       "      <td>-1.25103</td>\n",
       "      <td>2068.34</td>\n",
       "      <td>164.7750</td>\n",
       "      <td>6.39009</td>\n",
       "      <td>1.82484</td>\n",
       "      <td>6.42173</td>\n",
       "      <td>-15.1611</td>\n",
       "      <td>18.67500</td>\n",
       "      <td>...</td>\n",
       "      <td>-132.998</td>\n",
       "      <td>17.3268</td>\n",
       "      <td>6.38689</td>\n",
       "      <td>-4.55699</td>\n",
       "      <td>-6.78894</td>\n",
       "      <td>-1.82261</td>\n",
       "      <td>2.84045</td>\n",
       "      <td>-2.49379</td>\n",
       "      <td>Fastball</td>\n",
       "      <td>690.0</td>\n",
       "    </tr>\n",
       "    <tr>\n",
       "      <th>37057</th>\n",
       "      <td>92.2731</td>\n",
       "      <td>-3.173200</td>\n",
       "      <td>-2.67958</td>\n",
       "      <td>2148.68</td>\n",
       "      <td>154.7450</td>\n",
       "      <td>6.25661</td>\n",
       "      <td>1.89786</td>\n",
       "      <td>6.70419</td>\n",
       "      <td>-11.4928</td>\n",
       "      <td>20.70590</td>\n",
       "      <td>...</td>\n",
       "      <td>-134.710</td>\n",
       "      <td>15.8895</td>\n",
       "      <td>6.25298</td>\n",
       "      <td>-7.36801</td>\n",
       "      <td>-5.08098</td>\n",
       "      <td>-1.89428</td>\n",
       "      <td>6.19644</td>\n",
       "      <td>-5.13710</td>\n",
       "      <td>Fastball</td>\n",
       "      <td>675.0</td>\n",
       "    </tr>\n",
       "    <tr>\n",
       "      <th>37058</th>\n",
       "      <td>91.4704</td>\n",
       "      <td>-2.859930</td>\n",
       "      <td>-3.07173</td>\n",
       "      <td>2055.64</td>\n",
       "      <td>159.7180</td>\n",
       "      <td>6.25406</td>\n",
       "      <td>1.82789</td>\n",
       "      <td>6.55698</td>\n",
       "      <td>-14.0948</td>\n",
       "      <td>19.30220</td>\n",
       "      <td>...</td>\n",
       "      <td>-133.450</td>\n",
       "      <td>17.3307</td>\n",
       "      <td>6.25059</td>\n",
       "      <td>-6.57864</td>\n",
       "      <td>-6.11970</td>\n",
       "      <td>-1.82468</td>\n",
       "      <td>7.07407</td>\n",
       "      <td>-3.95784</td>\n",
       "      <td>Fastball</td>\n",
       "      <td>675.0</td>\n",
       "    </tr>\n",
       "  </tbody>\n",
       "</table>\n",
       "<p>36921 rows × 25 columns</p>\n",
       "</div>"
      ],
      "text/plain": [
       "       RelSpeed  VertRelAngle  HorzRelAngle  SpinRate  SpinAxis  RelHeight  \\\n",
       "0       87.7942     -2.316140       1.48219   2074.21  193.2730    6.39639   \n",
       "1       78.6510     -3.237650       2.15585   1743.14  176.3540    6.21378   \n",
       "2       83.7694     -0.945851       3.61505   2063.13  194.3310    5.58439   \n",
       "3       87.2288     -2.433030       1.51020   2049.19  183.5780    6.36527   \n",
       "4       88.3147     -3.345550       1.49199   2083.12  195.5540    6.32208   \n",
       "...         ...           ...           ...       ...       ...        ...   \n",
       "37054   77.8320      0.487803      -3.79674   1629.89   89.1505    4.96262   \n",
       "37055   91.9834     -3.016400      -2.31560   2055.19  160.8450    6.28585   \n",
       "37056   91.0094     -2.001200      -1.25103   2068.34  164.7750    6.39009   \n",
       "37057   92.2731     -3.173200      -2.67958   2148.68  154.7450    6.25661   \n",
       "37058   91.4704     -2.859930      -3.07173   2055.64  159.7180    6.25406   \n",
       "\n",
       "       RelSide  Extension  VertBreak  InducedVertBreak  ...  \\\n",
       "0     -1.25232    5.62407   -14.4967          22.71110  ...   \n",
       "1     -1.55537    5.58387   -20.2948          26.51700  ...   \n",
       "2     -2.96050    6.79323   -21.0996          17.81280  ...   \n",
       "3     -1.16780    5.48250   -12.4688          25.74060  ...   \n",
       "4     -1.41026    5.61121   -13.4307          23.49540  ...   \n",
       "...        ...        ...        ...               ...  ...   \n",
       "37054  1.48449    6.13498   -44.7470           1.22839  ...   \n",
       "37055  1.78022    6.68517   -10.5206          22.21320  ...   \n",
       "37056  1.82484    6.42173   -15.1611          18.67500  ...   \n",
       "37057  1.89786    6.70419   -11.4928          20.70590  ...   \n",
       "37058  1.82789    6.55698   -14.0948          19.30220  ...   \n",
       "\n",
       "       PitchTrajectoryXc1  PitchTrajectoryXc2  PitchTrajectoryYc0  \\\n",
       "0                -128.294             14.9429             6.39219   \n",
       "1                -114.773             12.5362             6.20956   \n",
       "2                -122.319             13.0979             5.58271   \n",
       "3                -127.431             15.7290             6.36003   \n",
       "4                -128.939             15.3537             6.31744   \n",
       "...                   ...                 ...                 ...   \n",
       "37054            -113.748             10.7878             4.96757   \n",
       "37055            -134.281             17.1792             6.28117   \n",
       "37056            -132.998             17.3268             6.38689   \n",
       "37057            -134.710             15.8895             6.25298   \n",
       "37058            -133.450             17.3307             6.25059   \n",
       "\n",
       "       PitchTrajectoryYc1  PitchTrajectoryYc2  PitchTrajectoryZc0  \\\n",
       "0                -5.07470            -5.88970             1.25003   \n",
       "1                -6.39518            -6.43732             1.55554   \n",
       "2                -1.97702            -8.59524             2.95833   \n",
       "3                -5.26725            -4.85992             1.16691   \n",
       "4                -7.41420            -5.19747             1.40755   \n",
       "...                   ...                 ...                 ...   \n",
       "37054             0.83277           -15.51590            -1.47783   \n",
       "37055            -6.94342            -4.54720            -1.77695   \n",
       "37056            -4.55699            -6.78894            -1.82261   \n",
       "37057            -7.36801            -5.08098            -1.89428   \n",
       "37058            -6.57864            -6.11970            -1.82468   \n",
       "\n",
       "       PitchTrajectoryZc1  PitchTrajectoryZc2  TaggedPitchType  Tilt_minutes  \n",
       "0                -3.25817             2.44303         Fastball         750.0  \n",
       "1                -4.33739            -0.04007         ChangeUp         720.0  \n",
       "2                -7.68082             2.47728         Fastball         750.0  \n",
       "3                -3.34104             1.01793         Fastball         720.0  \n",
       "4                -3.28298             2.93283         Fastball         750.0  \n",
       "...                   ...                 ...              ...           ...  \n",
       "37054             7.37037            -7.06468         ChangeUp         540.0  \n",
       "37055             5.33487            -4.07897         Fastball         675.0  \n",
       "37056             2.84045            -2.49379         Fastball         690.0  \n",
       "37057             6.19644            -5.13710         Fastball         675.0  \n",
       "37058             7.07407            -3.95784         Fastball         675.0  \n",
       "\n",
       "[36921 rows x 25 columns]"
      ]
     },
     "execution_count": 113,
     "metadata": {},
     "output_type": "execute_result"
    }
   ],
   "source": [
    "pitch_type_adjust(updated_df)"
   ]
  },
  {
   "cell_type": "code",
   "execution_count": 114,
   "metadata": {},
   "outputs": [],
   "source": [
    "y = updated_df['TaggedPitchType']\n",
    "\n",
    "X = updated_df.drop('TaggedPitchType', axis = 1)\n",
    "\n",
    "X_train, X_test, y_train, y_test = train_test_split(X, y, random_state = 22)"
   ]
  },
  {
   "cell_type": "markdown",
   "metadata": {},
   "source": [
    "## Model Selection (Post Feature Engineering)\n",
    "#### KNN"
   ]
  },
  {
   "cell_type": "code",
   "execution_count": 116,
   "metadata": {},
   "outputs": [
    {
     "name": "stdout",
     "output_type": "stream",
     "text": [
      "Training Accuracy:  0.8595882990249187\n",
      "Test Accuracy:  0.8108547286317842\n"
     ]
    }
   ],
   "source": [
    "knn = KNeighborsClassifier(n_neighbors = 5)\n",
    "knn.fit(X_train, y_train)\n",
    "\n",
    "y_train_pred = knn.predict(X_train)\n",
    "y_pred_knn = knn.predict(X_test)\n",
    "\n",
    "print(\"Training Accuracy: \", accuracy_score(y_train, y_train_pred))\n",
    "print(\"Test Accuracy: \", accuracy_score(y_test, y_pred_knn))"
   ]
  },
  {
   "cell_type": "markdown",
   "metadata": {},
   "source": [
    "#### SVM"
   ]
  },
  {
   "cell_type": "code",
   "execution_count": 117,
   "metadata": {},
   "outputs": [
    {
     "name": "stdout",
     "output_type": "stream",
     "text": [
      "Training Accuracy:  0.7802094618996027\n",
      "Test Accuracy:  0.7673058173545662\n"
     ]
    }
   ],
   "source": [
    "svc = SVC(kernel = 'rbf', random_state = 2)\n",
    "svc.fit(X_train, y_train)\n",
    "\n",
    "y_train_SVC = svc.predict(X_train)\n",
    "y_pred_SVC = svc.predict(X_test)\n",
    "\n",
    "print(\"Training Accuracy: \", accuracy_score(y_train, y_train_SVC))\n",
    "print(\"Test Accuracy: \", accuracy_score(y_test, y_pred_SVC))"
   ]
  },
  {
   "cell_type": "markdown",
   "metadata": {},
   "source": [
    "#### Naive Bayes"
   ]
  },
  {
   "cell_type": "code",
   "execution_count": 118,
   "metadata": {},
   "outputs": [
    {
     "name": "stdout",
     "output_type": "stream",
     "text": [
      "Training Accuracy:  0.7610689779703864\n",
      "Test Accuracy:  0.7578810529736757\n"
     ]
    }
   ],
   "source": [
    "gnb = GaussianNB()\n",
    "gnb.fit(X_train, y_train)\n",
    "\n",
    "y_pred_gnb = gnb.predict(X_test)\n",
    "y_train_nb = gnb.predict(X_train)\n",
    "\n",
    "print(\"Training Accuracy: \", accuracy_score(y_train, y_train_nb))\n",
    "print(\"Test Accuracy: \", accuracy_score(y_test, y_pred_gnb))"
   ]
  },
  {
   "cell_type": "markdown",
   "metadata": {},
   "source": [
    "#### Decison Tree"
   ]
  },
  {
   "cell_type": "code",
   "execution_count": 119,
   "metadata": {},
   "outputs": [
    {
     "name": "stdout",
     "output_type": "stream",
     "text": [
      "Training Accuracy:  1.0\n",
      "Test Accuracy:  0.8001299967500812\n"
     ]
    }
   ],
   "source": [
    "dt = DecisionTreeClassifier()\n",
    "dt.fit(X_train, y_train)\n",
    "\n",
    "y_pred_dt = dt.predict(X_test)\n",
    "y_train_dt = dt.predict(X_train)\n",
    "\n",
    "print(\"Training Accuracy: \", accuracy_score(y_train, y_train_dt))\n",
    "print(\"Test Accuracy: \", accuracy_score(y_test, y_pred_dt))"
   ]
  },
  {
   "cell_type": "markdown",
   "metadata": {},
   "source": [
    "# Feature Importance"
   ]
  },
  {
   "cell_type": "markdown",
   "metadata": {},
   "source": [
    "Here I will be calculating feature importance using the permutation importance function. This function will examine each individual feature and see how much it influences the overall model accuracy."
   ]
  },
  {
   "cell_type": "code",
   "execution_count": 237,
   "metadata": {},
   "outputs": [],
   "source": [
    "# instantiating the model\n",
    "dt = DecisionTreeClassifier()\n",
    "dt.fit(X_train, y_train)\n",
    "y_pred = dt.predict(X_test)"
   ]
  },
  {
   "cell_type": "code",
   "execution_count": 238,
   "metadata": {},
   "outputs": [],
   "source": [
    "result = permutation_importance(dt, X_test, y_test, n_repeats = 12, random_state = 123, n_jobs = -1)"
   ]
  },
  {
   "cell_type": "code",
   "execution_count": 239,
   "metadata": {},
   "outputs": [
    {
     "name": "stdout",
     "output_type": "stream",
     "text": [
      "Feature 0 importance  0.1007\n",
      "Feature 1 importance  0.0083\n",
      "Feature 2 importance  0.0148\n",
      "Feature 3 importance  0.0523\n",
      "Feature 4 importance  0.0200\n",
      "Feature 5 importance  0.0109\n",
      "Feature 6 importance  0.0073\n",
      "Feature 7 importance  0.0109\n",
      "Feature 8 importance  0.2584\n",
      "Feature 9 importance  0.0164\n",
      "Feature 10 importance  0.0205\n",
      "Feature 11 importance  0.0133\n",
      "Feature 12 importance  0.0154\n",
      "Feature 13 importance  0.0240\n",
      "Feature 14 importance  0.0072\n",
      "Feature 15 importance  0.1988\n",
      "Feature 16 importance  0.0140\n",
      "Feature 17 importance  0.0243\n",
      "Feature 18 importance  0.0019\n",
      "Feature 19 importance  0.0399\n",
      "Feature 20 importance  0.0155\n",
      "Feature 21 importance  0.0093\n",
      "Feature 22 importance  0.0346\n",
      "Feature 23 importance  0.0184\n",
      "Feature 24 importance  0.0006\n",
      "Feature 25 importance  0.0068\n"
     ]
    }
   ],
   "source": [
    "feature_importance = result.importances_mean\n",
    "for i, importance in enumerate(feature_importance):\n",
    "    print(f\"Feature {i} importance {importance: .4f}\")"
   ]
  },
  {
   "cell_type": "code",
   "execution_count": 240,
   "metadata": {},
   "outputs": [
    {
     "data": {
      "image/png": "[encoded data removed]",
      "text/plain": [
       "<Figure size 720x432 with 1 Axes>"
      ]
     },
     "metadata": {},
     "output_type": "display_data"
    }
   ],
   "source": [
    "feature_names = X\n",
    "plt.figure(figsize=(10, 6))\n",
    "plt.barh(range(len(feature_importance)), feature_importance, align='center')\n",
    "plt.yticks(np.arange(len(feature_importance)), feature_names)\n",
    "plt.xlabel('Feature Importance')\n",
    "plt.title('Feature Importance in KNN Model')\n",
    "plt.gca().invert_yaxis()  # Highest importance at the top\n",
    "plt.show()"
   ]
  },
  {
   "cell_type": "code",
   "execution_count": 241,
   "metadata": {},
   "outputs": [],
   "source": [
    "X = X.drop([\"VertRelAngle\", \"PitchTrajectoryXc0\",\n",
    "            \"PitchTrajectoryYc1\", \"PitcherThrows_Left\"], axis = 1)"
   ]
  },
  {
   "cell_type": "code",
   "execution_count": 242,
   "metadata": {},
   "outputs": [],
   "source": [
    "X_train, X_test, y_train, y_test = train_test_split(X, y, random_state = 22)"
   ]
  },
  {
   "cell_type": "markdown",
   "metadata": {},
   "source": [
    "# Decision Tree Optimized"
   ]
  },
  {
   "cell_type": "markdown",
   "metadata": {},
   "source": [
    "After examining the baseline classifier models, decision tree performed the best with a ~0.8722 accuracy score. Now to test different ways to optimize for better performance."
   ]
  },
  {
   "cell_type": "code",
   "execution_count": 243,
   "metadata": {},
   "outputs": [
    {
     "data": {
      "text/plain": [
       "Text(0, 0.5, 'Error Rate')"
      ]
     },
     "execution_count": 243,
     "metadata": {},
     "output_type": "execute_result"
    },
    {
     "data": {
      "image/png": "[encoded data removed]",
      "text/plain": [
       "<Figure size 576x288 with 1 Axes>"
      ]
     },
     "metadata": {},
     "output_type": "display_data"
    }
   ],
   "source": [
    "error_rate = []\n",
    "for i in range(1,51):    \n",
    "    dt = DecisionTreeClassifier(max_depth=i)\n",
    "    dt.fit(X_train,y_train)\n",
    "    pred_i = dt.predict(X_test)\n",
    "    error_rate.append(np.mean(pred_i != y_test))\n",
    "    \n",
    "## creating a graph to examine which value for max_depth has the lowest error\n",
    "plt.figure(figsize = (8,4))\n",
    "plt.plot(range(1,51), error_rate,color = 'darkred', marker = 'o', markersize = 10)\n",
    "plt.title('Error Rate vs Max Depth')\n",
    "plt.xlabel('Max Depth')\n",
    "plt.ylabel('Error Rate')"
   ]
  },
  {
   "cell_type": "code",
   "execution_count": 244,
   "metadata": {},
   "outputs": [
    {
     "data": {
      "text/plain": [
       "0.8928080622995878"
      ]
     },
     "execution_count": 244,
     "metadata": {},
     "output_type": "execute_result"
    }
   ],
   "source": [
    "dt2 = DecisionTreeClassifier(max_depth = 10)\n",
    "dt2.fit(X_train, y_train)\n",
    "dt_pred = dt2.predict(X_test)\n",
    "accuracy_score(y_test, dt_pred)"
   ]
  },
  {
   "cell_type": "code",
   "execution_count": 245,
   "metadata": {},
   "outputs": [],
   "source": [
    "parameters = {'criterion' : ['gini', 'entropy'],\n",
    "              'max_depth' : range(0,50),\n",
    "             'min_samples_split' : [2, 5, 10],\n",
    "              'min_samples_leaf' : [1, 2, 5, 10, 15, 20],\n",
    "              'max_features' : [None, 'log2', 'sqrt']\n",
    "             }\n",
    "\n",
    "\n",
    "grid_search = GridSearchCV(estimator = DecisionTreeClassifier(),\n",
    "                           param_grid = parameters,\n",
    "                           scoring = 'accuracy',\n",
    "                           cv = 4,\n",
    "                          n_jobs=-1,\n",
    "                          verbose = 1)\n"
   ]
  },
  {
   "cell_type": "code",
   "execution_count": 246,
   "metadata": {},
   "outputs": [
    {
     "name": "stdout",
     "output_type": "stream",
     "text": [
      "Fitting 4 folds for each of 5400 candidates, totalling 21600 fits\n"
     ]
    },
    {
     "name": "stderr",
     "output_type": "stream",
     "text": [
      "[Parallel(n_jobs=-1)]: Using backend LokyBackend with 4 concurrent workers.\n",
      "[Parallel(n_jobs=-1)]: Done  42 tasks      | elapsed:    3.5s\n",
      "[Parallel(n_jobs=-1)]: Done 256 tasks      | elapsed:   19.0s\n",
      "[Parallel(n_jobs=-1)]: Done 506 tasks      | elapsed:   33.8s\n",
      "[Parallel(n_jobs=-1)]: Done 856 tasks      | elapsed:   52.4s\n",
      "[Parallel(n_jobs=-1)]: Done 1306 tasks      | elapsed:  1.4min\n",
      "[Parallel(n_jobs=-1)]: Done 1856 tasks      | elapsed:  2.2min\n",
      "[Parallel(n_jobs=-1)]: Done 2506 tasks      | elapsed:  3.6min\n",
      "[Parallel(n_jobs=-1)]: Done 3256 tasks      | elapsed:  5.4min\n",
      "[Parallel(n_jobs=-1)]: Done 4106 tasks      | elapsed:  7.9min\n",
      "[Parallel(n_jobs=-1)]: Done 5056 tasks      | elapsed: 10.7min\n",
      "[Parallel(n_jobs=-1)]: Done 6106 tasks      | elapsed: 13.7min\n",
      "[Parallel(n_jobs=-1)]: Done 7256 tasks      | elapsed: 16.6min\n",
      "[Parallel(n_jobs=-1)]: Done 8506 tasks      | elapsed: 19.9min\n",
      "[Parallel(n_jobs=-1)]: Done 9856 tasks      | elapsed: 23.6min\n",
      "[Parallel(n_jobs=-1)]: Done 11630 tasks      | elapsed: 26.7min\n",
      "[Parallel(n_jobs=-1)]: Done 13180 tasks      | elapsed: 30.6min\n",
      "[Parallel(n_jobs=-1)]: Done 14830 tasks      | elapsed: 35.0min\n",
      "[Parallel(n_jobs=-1)]: Done 16580 tasks      | elapsed: 39.5min\n",
      "[Parallel(n_jobs=-1)]: Done 18430 tasks      | elapsed: 44.4min\n",
      "[Parallel(n_jobs=-1)]: Done 20380 tasks      | elapsed: 49.5min\n",
      "[Parallel(n_jobs=-1)]: Done 21600 out of 21600 | elapsed: 52.5min finished\n"
     ]
    },
    {
     "data": {
      "text/plain": [
       "GridSearchCV(cv=4, estimator=DecisionTreeClassifier(), n_jobs=-1,\n",
       "             param_grid={'criterion': ['gini', 'entropy'],\n",
       "                         'max_depth': range(0, 50),\n",
       "                         'max_features': [None, 'log2', 'sqrt'],\n",
       "                         'min_samples_leaf': [1, 2, 5, 10, 15, 20],\n",
       "                         'min_samples_split': [2, 5, 10]},\n",
       "             scoring='accuracy', verbose=1)"
      ]
     },
     "execution_count": 246,
     "metadata": {},
     "output_type": "execute_result"
    }
   ],
   "source": [
    "grid_search.fit(X_train, y_train)"
   ]
  },
  {
   "cell_type": "code",
   "execution_count": 247,
   "metadata": {},
   "outputs": [
    {
     "name": "stdout",
     "output_type": "stream",
     "text": [
      "The best parameters are: {'criterion': 'entropy', 'max_depth': 8, 'max_features': None, 'min_samples_leaf': 1, 'min_samples_split': 5}\n",
      "The accuracy: 0.8871454433581051\n"
     ]
    }
   ],
   "source": [
    "best_params = grid_search.best_params_\n",
    "print(\"The best parameters are:\", best_params)\n",
    "\n",
    "best_score = grid_search.best_score_\n",
    "print(\"The accuracy:\", best_score)"
   ]
  },
  {
   "cell_type": "code",
   "execution_count": 248,
   "metadata": {
    "scrolled": true
   },
   "outputs": [
    {
     "name": "stdout",
     "output_type": "stream",
     "text": [
      "              precision    recall  f1-score   support\n",
      "\n",
      "    ChangeUp       0.25      0.89      0.39       857\n",
      "   Curveball       0.00      0.00      0.00       459\n",
      "      Cutter       0.00      0.00      0.00       123\n",
      "    Fastball       0.96      0.93      0.94      5840\n",
      "      Slider       0.00      0.00      0.00      1453\n",
      "\n",
      "    accuracy                           0.71      8732\n",
      "   macro avg       0.24      0.36      0.27      8732\n",
      "weighted avg       0.67      0.71      0.67      8732\n",
      "\n"
     ]
    },
    {
     "name": "stderr",
     "output_type": "stream",
     "text": [
      "/Users/jisoluawe/opt/anaconda3/lib/python3.8/site-packages/sklearn/metrics/_classification.py:1221: UndefinedMetricWarning: Precision and F-score are ill-defined and being set to 0.0 in labels with no predicted samples. Use `zero_division` parameter to control this behavior.\n",
      "  _warn_prf(average, modifier, msg_start, len(result))\n"
     ]
    }
   ],
   "source": [
    "print(classification_report(y_test, best_dt.predict(X_test)))"
   ]
  },
  {
   "cell_type": "code",
   "execution_count": null,
   "metadata": {},
   "outputs": [],
   "source": []
  }
 ],
 "metadata": {
  "kernelspec": {
   "display_name": "Python 3",
   "language": "python",
   "name": "python3"
  },
  "language_info": {
   "codemirror_mode": {
    "name": "ipython",
    "version": 3
   },
   "file_extension": ".py",
   "mimetype": "text/x-python",
   "name": "python",
   "nbconvert_exporter": "python",
   "pygments_lexer": "ipython3",
   "version": "3.8.5"
  }
 },
 "nbformat": 4,
 "nbformat_minor": 4
}
